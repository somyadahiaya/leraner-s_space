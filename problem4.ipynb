{
 "cells": [
  {
   "cell_type": "code",
   "execution_count": 1,
   "id": "f2f8f69c",
   "metadata": {},
   "outputs": [],
   "source": [
    "import csv\n",
    "import pandas as pd\n",
    "import numpy as np\n"
   ]
  },
  {
   "cell_type": "markdown",
   "id": "5a93b11c",
   "metadata": {},
   "source": [
    "Extracting dataset for training"
   ]
  },
  {
   "cell_type": "code",
   "execution_count": 120,
   "id": "4378a4e7",
   "metadata": {},
   "outputs": [],
   "source": [
    "dataset=pd.read_csv('reviews_100.csv')"
   ]
  },
  {
   "cell_type": "code",
   "execution_count": 121,
   "id": "9dac413b",
   "metadata": {},
   "outputs": [
    {
     "name": "stdout",
     "output_type": "stream",
     "text": [
      "negative    50\n",
      "positive    50\n",
      "Name: sentiment, dtype: int64\n"
     ]
    }
   ],
   "source": [
    "print(dataset['sentiment'].value_counts())"
   ]
  },
  {
   "cell_type": "markdown",
   "id": "56f24d63",
   "metadata": {},
   "source": [
    "Stopwords removal and tokenization\n"
   ]
  },
  {
   "cell_type": "code",
   "execution_count": 122,
   "id": "e9c0493c",
   "metadata": {},
   "outputs": [
    {
     "name": "stderr",
     "output_type": "stream",
     "text": [
      "[nltk_data] Downloading package punkt to\n",
      "[nltk_data]     /home/somyadahiaya/nltk_data...\n",
      "[nltk_data]   Package punkt is already up-to-date!\n",
      "[nltk_data] Downloading package stopwords to\n",
      "[nltk_data]     /home/somyadahiaya/nltk_data...\n",
      "[nltk_data]   Package stopwords is already up-to-date!\n"
     ]
    },
    {
     "data": {
      "text/plain": [
       "True"
      ]
     },
     "execution_count": 122,
     "metadata": {},
     "output_type": "execute_result"
    }
   ],
   "source": [
    "import nltk\n",
    "from nltk.tokenize import word_tokenize\n",
    "from nltk.corpus import stopwords\n",
    "import re\n",
    "import string\n",
    "nltk.download('punkt')\n",
    "nltk.download('stopwords')"
   ]
  },
  {
   "cell_type": "code",
   "execution_count": 231,
   "id": "b0ef165d",
   "metadata": {},
   "outputs": [
    {
     "name": "stdout",
     "output_type": "stream",
     "text": [
      "['example', 'text']\n"
     ]
    }
   ],
   "source": [
    "\n",
    "# dataset['joined_review'] = dataset['cleaned_review'].apply(lambda words: ' '.join(words))\n",
    "\n",
    "# vectorizer = CountVectorizer(max_features=500, stop_words='english')\n",
    "# X = vectorizer.fit_transform(dataset['joined_review'])  # Features\n",
    "# y = dataset['sentiment']  # Labels\n",
    "\n",
    "\n",
    "\n",
    "\n",
    "\n",
    "\n",
    "stop_words = set(stopwords.words('english'))\n",
    "\n",
    "def remove_stopwords(text):\n",
    "    text =re.sub(r'<[^>]+>', '', text)\n",
    "    remove_punctuation=[char for char in text if char not in string.punctuation]\n",
    "    remove_punctuation=''.join(remove_punctuation)\n",
    "    text= [word.lower() for word in remove_punctuation.split() if word.lower() not in stop_words]\n",
    "    return text\n",
    "\n",
    "# Test\n",
    "print(remove_stopwords(\"This is an example <br> text<\\br>.\"))"
   ]
  },
  {
   "cell_type": "code",
   "execution_count": 159,
   "id": "4fd83168",
   "metadata": {},
   "outputs": [
    {
     "data": {
      "application/vnd.microsoft.datawrangler.viewer.v0+json": {
       "columns": [
        {
         "name": "index",
         "rawType": "int64",
         "type": "integer"
        },
        {
         "name": "review",
         "rawType": "object",
         "type": "string"
        }
       ],
       "ref": "e8c8268f-9cef-4e79-8190-0b8f26e15ccd",
       "rows": [
        [
         "0",
         "['viewed', 'first', 'two', 'nights', 'coming', 'imdb', 'looking', 'actor', 'info', 'saw', '9', 'rating', 'surprised', 'since', 'impressed', 'id', 'seen', 'reference', 'happen', 'believe', 'lonesome', 'dove', 'best', 'tv', 'western', 'ever', 'grew', 'next', 'mgm', 'back', 'lots', 'culver', 'city', '50s', 'certain', 'sense', 'reverence', 'western', 'genre', 'saw', 'glowing', 'first', 'review', 'decided', 'read', 'found', 'several', 'reviews', '1', '2', 'stars', 'summed', 'feelings', 'well', 'lack', 'character', 'development', 'poor', 'editing', 'feeling', 'shot', 'universal', 'back', 'lot', 'mgms', 'long', 'gone', 'overall', 'impression', 'going', 'come', 'close', 'changing', 'feelings', 'ld', 'impression', 'overwhelming', 'vote', 'chose', 'write', 'less', '40this', 'got', 'wondering', 'process', 'yields', '9', 'rating', 'people', 'giving', '10s', '9s', 'take', 'time', 'justify', 'vote', 'ballot', 'box', 'stuffed', 'people', 'monetary', 'motivation', 'long', 'used', 'imdb', 'one', 'tool', 'screen', 'movies', 'thought', 'best', 'available', 'sure']"
        ],
        [
         "1",
         "['said', 'several', 'times', 'least', 'watching', 'eric', 'rohmer', 'film', 'like', 'watching', 'paint', 'dry', 'seems', 'monsieur', 'rohmer', 'resents', 'doesnt', 'deny', 'could', 'resents', 'much', 'new', 'movie', 'may', 'also', 'last', 'inch', 'allah', 'set', 'far', 'back', 'time', 'like', 'watching', 'woad', 'dry', 'wonderful', 'people', 'gave', 'nouvelle', 'vague', 'cahiers', 'du', 'cinema', 'already', 'named', 'one', 'best', 'films', '2007', 'give', 'idea', 'reality', 'high', 'rohmers', 'agenda', '5th', 'century', 'france', 'one', 'extreme', 'château', 'would', 'place', 'loire', 'valley', 'whilst', 'dwelling', 'see', 'rude', 'wooden', 'hut', 'story', 'involves', 'nymphs', 'shepherds', 'often', 'rohmer', 'cast', 'unknowns', 'happened', 'passing', 'overall', 'effect', 'annual', 'class', 'play', 'school', 'special', 'needs', 'pupils', 'captured', 'film', 'accident', 'one', 'almost', 'tempted', 'say', 'come', 'back', 'godard', 'forgiven', 'even', 'woeful', 'production', 'cant', 'make', 'utter', 'words']"
        ],
        [
         "2",
         "['without', 'doubt', 'worse', 'comicbook', 'movie', 'every', 'made', 'period', 'yes', 'worse', 'dolph', 'lundgrens', '1989', 'punisher', 'yup', 'worse', '1979', '1991', 'captain', 'america', 'movies', 'oh', 'yeah', 'even', 'worse', 'christopher', 'reed', 'scripted', 'superman', 'iv', 'quest', 'peace', 'movie', 'sheeshh', 'movie', 'bad', 'guy', 'played', 'nuclear', 'man', 'starred', 'one', 'film', 'tv', 'opthis', 'movie', 'quality', 'chance', 'watch', 'scifi', 'channel', 'back', '1997', 'heard', 'pretty', 'bad', 'nothing', 'else', 'night', 'figured', 'check', 'waste', 'hour', 'half', 'would', 'better', 'watching', 'reruns', 'different', 'strokes', 'besides', 'lamest', 'special', 'effects', 'worse', 'acting', 'ive', 'ever', 'seen', 'whole', 'script', 'awful', 'well', 'directed', 'thankfully', 'new', 'fantastic', 'four', 'movie', 'done', 'hopefully', 'version', 'heroes', 'justice', 'hoping', 'new', 'spawn', 'movie', 'future', 'yet', 'materialize', 'rent', 'movie', 'happen', 'see', 'televised', 'cable', 'check', 'warned', 'though', 'youll', 'like', 'flipping', 'channel', 'first', '15', 'mins']"
        ],
        [
         "3",
         "['firstly', 'would', 'like', 'point', 'people', 'criticised', 'film', 'made', 'glaring', 'errors', 'anything', 'rating', '610', 'clearly', 'utter', 'nonsensecreep', 'absolutely', 'fantastic', 'film', 'amazing', 'film', 'effects', 'actors', 'highly', 'believable', 'narrative', 'thought', 'provoking', 'horror', 'graphical', 'content', 'extremely', 'disturbing', 'much', 'mystique', 'film', 'many', 'questions', 'arise', 'audience', 'revealed', 'strange', 'freakish', 'creature', 'makes', 'habitat', 'dark', 'rat', 'ridden', 'tunnels', 'craig', 'created', 'happened', 'hima', 'fantastic', 'film', 'large', 'chill', 'factor', 'film', 'many', 'unanswered', 'questions', 'film', 'needs', 'appreciated', 'along', 'others', 'like', '28', 'days', 'later', 'bunker', 'dog', 'soldiers', 'deathwatchlook', 'forward', 'fantastic', 'films']"
        ],
        [
         "4",
         "['compact', 'crime', 'drama', 'good', 'amount', 'action', 'unique', 'nyc', 'location', 'shots', 'adds', 'tough', 'little', 'filmtechnically', 'well', 'done', 'good', 'direction', 'acting', 'needless', 'saythe', 'wild', 'car', 'chase', 'seems', 'begin', 'downtown', 'extends', 'upper', 'west', 'side', 'washington', 'heights', 'across', 'george', 'washington', 'bridge', 'nj', 'one', 'best', 'ever', 'filmall', 'around', 'fine', 'flick', 'gets', 'better', 'time8', '10easy']"
        ],
        [
         "5",
         "['first', 'comment', 'imdb', 'website', 'reason', 'im', 'writing', 'talking', 'one', 'best', 'films', 'ever', 'ne', 'goryuy', 'make', 'laugh', 'cry', 'time', 'fall', 'love', 'youre', 'fan', 'yet', 'georgian', 'choir', 'singing', 'tradition', 'possibly', 'accept', 'hardships', 'existence', 'feel', 'good', 'watching', 'like', 'lot', 'film', 'actors', 'nonleading', 'roles', 'create', 'vivid', 'memorable', 'characters', 'interesting', 'important', 'central', 'character', 'film', 'starring', 'vahtang', 'kikabidze', 'great', 'remember', 'every', 'single', 'face', 'around', 'film', 'find', 'quoting', 'lines', 'become', 'household', 'names', 'many', 'russianspeaking', 'people', 'film', 'live', 'simple', 'yet', 'deep', 'want', 'watch']"
        ],
        [
         "6",
         "['theme', 'controversial', 'depiction', 'hypocritical', 'sexually', 'starved', 'india', 'excellentnothing', 'filmthere', 'lack', 'good', 'dialogueswhy', 'movie', 'english', 'lack', 'continuity', 'lack', 'passionemotion', 'acting']"
        ],
        [
         "7",
         "['hadnt', 'heard', 'soap', 'girl', 'saw', 'poster', 'five', 'star', 'review', 'film', 'threat', 'outside', 'theater', 'figured', 'bad', 'could', 'well', 'soon', 'found', 'god', 'film', 'awful', 'wooden', 'acting', 'ever', 'seen', 'outside', 'porn', 'flick', 'absolutely', 'agonizing', 'dialogue', 'cant', 'understand', 'made', 'anyone', 'agreed', 'part', 'find', 'completely', 'unfathomable', 'actually', 'shown', 'theater', 'money', 'charged', 'see', 'happen', 'importantly', 'guy', 'film', 'threat', 'thinking']"
        ],
        [
         "8",
         "['enjoyable', 'film', 'gives', 'romance', 'womenontheverge', 'psychodrama', 'work', 'place', 'sexual', 'harassment', 'adultery', 'fashion', 'typical', 'characters', 'found', 'corporate', 'america', 'joan', 'crawford', 'usual', 'long', 'time', 'employee', 'bitch', 'executive', 'feels', 'need', 'shes', 'big', 'boys', 'hope', 'lange', 'entry', 'level', 'ambitious', 'employee', 'whose', 'determined', 'get', 'top', 'using', 'mind', 'body', 'personal', 'lives', 'subplot', 'wardrobe', 'film', 'great', 'someone', 'forgot', 'tell', 'stephen', 'boyds', 'hairstylist', 'little', 'dab', 'ya', 'amount', 'brylcream', 'stephen', 'boyds', 'hair', 'distracting', 'times', 'characters', 'relationship', 'langes', 'character', 'never', 'fully', 'developed', 'found', 'disappointing', 'overall', 'movie', 'enjoyable', 'rating', '810']"
        ],
        [
         "9",
         "['dont', 'know', 'film', 'meager', 'rating', 'imdb', 'film', 'accompanied', 'curious', 'blue', 'masterworkthe', 'thing', 'let', 'film', 'dont', 'like', 'process', 'film', 'dont', 'like', 'psychology', 'expecting', 'hardcore', 'pornographic', 'rammingthis', 'isnt', 'film', 'want', 'watch', 'unwind', 'film', 'want', 'see', 'like', 'masterpiece', 'time', 'attention', 'caresummaries', 'may', 'contain', 'spoiler', 'twothe', 'main', 'thing', 'film', 'blends', 'whole', 'film', 'within', 'film', 'thing', 'way', 'sometimes', 'forget', 'fictions', 'arent', 'realthe', 'film', 'like', 'many', 'films', 'one1', 'political', 'documentary', 'social', 'system', 'sweden', 'time', 'lot', 'ways', 'still', 'relevant', 'today', 'interviews', 'done', 'young', 'woman', 'named', 'lena2', 'narrative', 'filmmaker', 'vilgot', 'sjoman', 'making', 'film', 'deals', 'relationship', 'star', 'film', 'never', 'got', 'involved', 'people', 'hes', 'supposed', 'work', 'with3', 'film', 'vilgot', 'making', 'young', 'woman', 'named', 'lenaie', '2', 'young', 'politically', 'active', 'making', 'documentary', 'ie', '1', 'also', 'coming', 'age', 'sexuality', 'freedom', 'thatthe', 'magnificence', 'sheer', 'brilliance', 'curious', 'yellowblue', 'three', 'elements', 'cut', 'together', 'one', 'moment', 'watching', 'interview', 'politics', 'next', 'watching', 'interviewer', 'behind', 'scenes', 'well', 'sometimes', 'forget', 'narrativeanother', 'thing', 'dynamic', 'yellow', 'blue', 'see', 'one', 'must', 'see', 'blue', 'sequel', 'ill', 'try', 'explain', 'best', 'knowledge', 'films', 'done', 'though', 'great', 'techniquethink', 'yellow', 'living', 'thing', 'actual', 'events', '14', 'scenes', 'complete', 'talethink', 'blue', 'things', '14', 'scenes', 'yellow', 'didnt', 'see', 'complete', 'tale', 'ownessentially', 'parallel', 'films', 'story', 'told', 'two', 'different', 'waysit', 'wasnt', 'saw', 'first', '30', 'minutes', 'blue', 'fully', 'understood', 'yellowi', 'hope', 'helpful', 'people', 'discouraged', 'various', 'influences', 'film', 'changed', 'way', 'looked', 'filmthanks', 'time']"
        ],
        [
         "10",
         "['recently', 'bought', 'movie', 'dvd', 'discount', 'store', '5', 'although', 'nofrills', 'dvd', 'geneon', 'label', 'movie', 'starts', 'playing', 'immediately', 'menu', 'special', 'features', 'picture', 'sound', 'quality', 'excellent', 'movie', 'based', 'true', 'story', 'one', 'biggest', 'bank', 'robberies', 'historyrichard', 'jordan', 'must', 'admit', 'heard', 'plays', 'lead', 'pinky', 'green', 'charming', 'young', 'man', 'spent', 'much', 'years', 'prison', 'wanted', 'go', 'straight', 'allowed', 'portrays', 'american', 'england', 'david', 'niven', 'plays', 'lead', 'bad', 'guy', 'also', 'great', 'charm', 'famous', 'bad', 'scruples', 'refuses', 'deny', 'pinky', 'whack', 'job', 'whack', 'england', 'apparently', 'fair', 'share', 'take', 'bullet', 'head', 'american', 'gangster', 'films', 'supporting', 'cast', 'excellent', 'job', 'producing', 'believable', 'moviewhat', 'perhaps', 'best', 'whole', 'movie', 'quite', 'enjoyable', 'understandable', 'frequently', 'find', 'lost', 'plot', 'confusions', 'various', 'characters', 'without', 'special', 'effects', 'blood', 'violence', 'even', 'single', 'car', 'chase', 'well', 'written', 'story', 'well', 'acted', 'well', 'directed', 'well', 'photographed', 'complaints', 'movie', 'would', 'question', 'music', 'bluegrass', 'music', 'bank', 'heist', 'story', 'takes', 'place', 'england']"
        ],
        [
         "11",
         "['du', 'rififi', 'chez', 'les', 'hommesrififi1955', 'surface', 'described', 'french', 'variation', 'john', 'hustons', 'seminal', 'heist', 'film', 'asphalt', 'jungle1950', 'difference', 'two', 'films', 'rififi1955', 'pays', 'little', 'attention', 'detail', 'robbery', 'sequence', 'also', 'police', 'arent', 'involved', 'aftermath', 'robbery', 'rififi', 'much', 'asphalt', 'jungle', 'end', 'rififi1955', 'opinion', 'slightly', 'better', 'film', 'asphalt', 'jungle1950', 'remarkable', 'noir', 'picture', 'defines', '1950s', 'french', 'cinemaspartacus1960', 'may', 'one', 'broke', 'infamous', 'blacklist', 'opinion', 'rififi1955', 'film', 'began', 'break', 'apart', 'unbreakable', 'hollywood', 'blacklist', 'first', 'film', 'five', 'years', 'jules', 'dassin', 'victimized', 'mccarthy', 'communist', 'hunt', 'late', '40s', 'early', '50s', 'got', 'sort', 'retribution', 'rififi1955', 'became', 'success', 'around', 'france', 'europe', 'thus', 'defying', 'poisonious', 'hollywood', 'blacklist', 'major', 'way', 'probably', 'inspired', 'others', 'rififi1955', 'important', 'film', 'dassins', 'career', 'restored', 'name', 'also', 'gave', 'second', 'chance', 'making', 'filmsjules', 'dassin', 'gave', 'filmworld', 'ever', 'growing', 'audiences', 'masterpiece', 'influential', 'proportions', 'handling', 'material', 'exceptional', 'direction', 'actors', 'flawless', 'builds', 'tense', 'situations', 'precise', 'craftsmanship', 'dassin', 'came', 'full', 'circle', 'film', 'noir', 'genre', 'directing', 'best', 'last', 'noir', 'rififi1955', 'marked', 'end', 'dassins', 'period', 'filmmaking', 'involved', 'noir', 'picturesrififi1955', 'number', 'one', 'film', 'arsenal', 'thirty', 'plus', 'films', 'director', 'jules', 'dassin', 'masterpiece', 'acting', 'cinematography', 'directing', 'editing', 'writing', 'film', 'leave', 'seat', 'one', 'minute', 'always', 'something', 'memorable', 'going', 'brilliant', 'anything', 'jean', 'pierre', 'melville', 'master', 'type', 'film', 'masterpieces', 'rififi1955', 'relatively', 'small', 'compared', 'probably', 'billions', 'films', 'made', 'motion', 'picture', 'historythe', 'one', 'fascinating', 'aspect', 'rififi', 'precise', 'planning', 'careful', 'execution', 'robbery', 'takes', 'bulk', '118', 'minute', 'duration', 'main', 'characters', 'plan', 'execute', 'jewel', 'heist', 'way', 'film', 'director', 'prepares', 'preproductions', 'production', 'postproduction', 'film', 'shows', 'difficult', 'jewel', 'heist', 'like', 'rififi1955', 'committing', 'would', 'something', 'like', 'fact', 'scene', 'hardly', 'contains', 'mess', 'like', 'heist', 'films', 'turns', 'scene', 'something', 'even', 'greater', 'close', 'one', 'get', 'perfect', 'sequence', 'motion', 'picturelack', 'unnatural', 'sound', 'landmark', 'thrity', 'minute', 'heist', 'sequence', 'puts', 'realm', 'absolute', 'realism', 'dialogue', 'orand', 'music', 'would', 'ruin', 'suspense', 'tension', 'director', 'trying', 'create', 'use', 'natural', 'sound', 'makes', 'heist', 'sequence', 'rewarding', 'film', 'viewing', 'experience', 'filmmakers', 'producers', 'would', 'use', 'dialogue', 'music', 'scene', 'like', 'lack', 'confidence', 'mainstream', 'filmgoers', 'patience', 'sustains', 'level', 'consistency', 'never', 'lets', 'downmaintaining', 'high', 'level', 'suspense', 'makes', 'heist', 'sequence', 'tick', 'perfection', 'director', 'achieves', 'suspense', 'heist', 'sequence', 'thats', 'rarely', 'equaled', 'robbery', 'scenes', 'heist', 'films', 'jean', 'servais', 'rest', 'main', 'actors', 'contribute', 'suspense', 'low', 'key', 'acting', 'getting', 'suspense', 'put', 'scene', 'task', 'capable', 'robbery', 'sequence', 'rififi1955', 'reaches', 'hitchcockian', 'level', 'suspense', 'tensionmany', 'filmmakers', 'years', 'following', 'du', 'rififi', 'chez', 'les', 'hommes1955', 'influenced', 'inspired', 'one', 'filmmaker', 'influenced', 'jean', 'pierre', 'melvilleoriginal', 'choice', 'director', 'rififiwho', 'used', 'variations', 'heist', 'sequence', 'le', 'doulos1961', 'le', 'cercle', 'rouge1970', 'another', 'filmmaker', 'influenced', 'stanley', 'kubrick', 'made', 'similarly', 'themed', 'film', 'killing1956', 'also', 'quentin', 'tarantino', 'whose', 'debut', 'feature', 'reservoir', 'dogs1992', 'inspired', 'film', 'film', 'directors', 'influenced', 'john', 'woo', 'michael', 'mann', 'paul', 'schrader', 'ringo', 'lam', 'etcdu', 'rififi', 'chez', 'les', 'hommes1955', 'comparable', 'bob', 'le', 'flambeur1955', 'many', 'ways', 'one', 'jules', 'dassin', 'jean', 'pierre', 'melville', 'directed', 'groundbreaking', 'films', 'rififi1955', 'bob', 'le', 'flambeur1955', 'two', 'film', 'involves', 'aging', 'criminal', 'plans', 'carries', 'daring', 'heist', 'three', 'bob', 'le', 'flambeur', 'rififi', 'finishes', 'fatalistic', 'fashion', 'four', 'film', 'shares', 'many', 'motifs', 'situations', 'classify', 'two', 'film', 'greatspart', 'rififis', 'charm', 'colorful', 'characters', 'surround', 'story', 'tony', 'le', 'stephanois', 'jo', 'le', 'suedois', 'mario', 'farrati', 'cesar', 'le', 'milanais', 'violence', 'implicit', 'yet', 'effectively', 'brutal', 'main', 'characters', 'led', 'tony', 'le', 'stephanois', 'abide', 'strong', 'outdated', 'code', 'honor', 'remindful', 'sam', 'peckinpah', 'john', 'woo', 'jean', 'servais', 'becomes', 'role', 'tony', 'le', 'stephanois', 'cynical', 'outlook', 'tired', 'looks', 'du', 'rififi', 'chez', 'les', 'hommesrififi1955', 'became', 'favorite', 'mine', 'moment', 'saw', 'big', 'screen', 'beginning', 'end']"
        ],
        [
         "12",
         "['movie', 'truly', 'amazingover', 'years', 'acquired', 'taste', 'japanese', 'monster', 'movies', 'well', 'aware', 'early', 'examples', 'genre', 'poor', 'however', 'one', 'reaches', 'new', 'low', 'follows', 'adventures', 'johnny', 'sokko', 'young', 'boy', 'controls', 'giant', 'robot', 'fight', 'evil', 'gargoyle', 'gang', 'seem', 'endless', 'supply', 'horrid', 'giant', 'monsters', 'disposal']"
        ],
        [
         "13",
         "['mr', 'baseball', 'film', 'paradoxes', 'written', 'filmed', 'light', 'sports', 'comedy', 'truly', 'heartwarming', 'core', 'human', 'universal', 'capras', 'finest', 'plot', 'level', 'paradox', 'baseball', 'fine', 'old', 'american', 'game', 'played', 'japan', 'turned', 'around', 'american', 'values', 'cast', 'japanese', 'values', 'imprinted', 'upon', 'game', 'superficial', 'sports', 'comedy', 'results', 'jacks', 'uncomprehending', 'disbelief', 'basaboru', 'played', 'japan', 'also', 'lead', 'character', 'whos', 'presented', 'overthehill', 'aging', 'baseball', 'star', 'actually', 'quite', 'immature', 'pro', 'ball', 'allowed', 'postpone', 'growing', 'lead', 'character', 'rudely', 'resistant', 'changes', 'life', 'forced', 'upon', 'refusing', 'accept', 'curveball', 'life', 'given', 'midst', 'new', 'country', 'new', 'manager', 'new', 'team', 'new', 'girlfriend', 'welcomed', 'try', 'accept', 'sound', 'like', 'heavy', 'stuff', 'really', 'charming', 'clash', 'cultures', 'comedy', 'takes', 'place', 'national', 'sports', 'romantic', 'professional', 'levels', 'watch', 'sensitively', 'enough', 'also', 'find', 'great', 'story', 'man', 'abandon', 'immaturity', 'grow', 'way', 'late', 'life', 'causing', 'amount', 'personal', 'pain', 'finds', 'success', 'places', 'never', 'expected', 'love', 'story', 'also', 'great', 'respect', 'sellecks', 'performance', 'bares', 'tush', 'literally', 'portray', 'ugly', 'american', 'insulting', 'people', 'throwing', 'tantrums', 'public', 'lets', 'us', 'inside', 'character', 'understand', 'dismay', 'also', 'doesnt', 'hurt', 'youre', 'big', 'fan', 'takakura', 'ken', 'like', 'mr', 'baseball', 'surprising', 'loss', 'innocence', 'tale']"
        ],
        [
         "14",
         "['sporadically', 'engrossing', 'including', 'effectively', 'tender', 'moments', 'humorous', 'sledgehammerobvious', 'satire', 'homecoming', 'hinges', 'comes', 'forced', 'ultimately', 'unfulfilling', 'material', 'like', 'timing', 'everything', 'michael', 'moore', 'knew', 'release', 'fahrenheit', '911', '2004', 'elections', 'real', 'tragedy', 'dantes', 'film', 'didnt', 'come', '2', 'years', 'ago', 'message', 'would', 'carried', 'energy', 'would', 'energized', 'dissidents', '2006', 'mockery', 'wellsettled', 'bush', 'administration', 'hardly', 'seems', 'controversially', 'compelling', 'imperiled', 'thenfrankly', 'anyone', 'could', 'convinced', 'anything', 'ham', 'fisted', 'zombie', 'flick', 'questionable', 'intelligence', 'didnt', 'notice', 'michael', 'moore', 'didnt', 'exactly', 'help', 'defeat', 'bushthere', 'nothing', 'engrossing', 'film', 'felt', 'disgust', 'blatant', 'frankly', 'stupid', 'film', 'painful', 'watch', 'going', 'something', 'like', 'need', 'bit', 'wit', 'sadly', 'none', 'poorly', 'done', 'satire', 'actually', 'opposite', 'intended', 'effect', 'say', 'friends', 'like', 'needs', 'enemies']"
        ],
        [
         "15",
         "['movie', 'made', '48', 'years', 'end', 'civil', 'warmost', 'likely', 'anticipation', '50th', 'anniversary', 'end', 'war', 'film', 'recreations', 'battles', 'people', 'era', 'look', 'rather', 'impressive', 'realistic', 'also', 'provides', 'different', 'balanced', 'view', 'contemporary', 'birth', 'nationa', 'patently', 'absurd', 'racist', 'film', 'short', 'film', 'would', 'excellent', 'use', 'classroom', 'discuss', 'war', 'tell', 'story', 'young', 'man', 'runs', 'away', 'enlist', 'drummer', 'boy', 'makes', 'good', 'hero', 'though', 'film', 'ends', 'rather', 'melodramaticallya', 'definite', 'convention', 'day', 'great', 'film', 'decent', 'plot', 'decent', 'acting', 'little', 'overthetop', 'acting', 'often', 'saw', 'films', 'dayone', 'annoying', 'aspect', 'film', 'frequent', 'use', 'title', 'cards', 'describe', 'set', 'stage', 'stuff', 'really', 'obvious', 'got', 'annoying', 'time', 'time']"
        ],
        [
         "16",
         "['say', 'theft', 'time', 'taken', 'see', 'movie', 'must', 'say', 'horrible', 'experience', 'fay', 'ann', 'lee', 'terrible', 'actress', 'unconvincing', 'movie', 'larryjoe76', 'obviously', 'shill', 'reviewer', 'plot', 'thin', 'say', 'least', 'cantonese', 'dialog', 'funny', 'see', 'movie', 'perildavid', 'tang', 'shanghai', 'tang', 'movie', 'little', 'revenue', 'movie', 'generate', 'banal', 'plot', 'attempts', 'compete', 'romcoms', 'blends', 'scenery', 'like', 'watching', 'paint', 'dry', 'short', 'movie', 'total', 'waste', 'time', 'space', 'ive', 'seen', 'better', 'movies', 'youtube']"
        ],
        [
         "17",
         "['end', 'game', 'started', 'well', 'least', 'said', 'end', 'better', 'seemed', 'like', 'things', 'happening', 'keep', 'plot', 'going', 'example', 'reporter', 'first', 'inquisitive', 'intelligent', 'person', 'half', 'way', 'something', 'really', 'stupid', 'totally', 'character', 'given', 'reason', 'apart', 'next', 'scene', 'wouldnt', 'make', 'sense', 'without', 'whole', 'story', 'could', 'told', '30', 'minutes', 'would', 'made', 'average', 'tv', 'political', 'drama', 'brilliant', 'cuba', 'gooding', 'jr', 'watchable', 'however', 'james', 'woods', 'admirable', 'job', 'consideringthe', 'end', 'game', 'honestly', 'one', 'worst', 'films', 'ive', 'ever', 'seenand', 'thats', 'saying', 'something', 'ive', 'seen', 'gigli']"
        ],
        [
         "18",
         "['couch', 'trip', 'one', 'silly', 'comedies', 'cranked', '80s', 'case', 'dan', 'aykroyd', 'plays', 'mental', 'patient', 'poses', 'psychiatrist', 'goes', 'beverly', 'hills', 'sub', 'charles', 'grodin', 'movies', 'humor', 'springs', 'satirical', 'look', 'beverly', 'hills', 'peoples', 'empty', 'lives', 'woman', 'power', 'struggle', 'maidits', 'sort', 'movie', 'watch', 'good', 'time', 'dont', 'expect', 'kind', 'religious', 'experience', 'youll', 'likely', 'laugh', 'lot', 'beverly', 'hills', 'people', 'flaunt', 'wealth', 'also', 'starring', 'walter', 'matthau', 'donna', 'dixon', 'arye', 'gross', 'victoria', 'jackson', 'uhf']"
        ],
        [
         "19",
         "['one', 'favourite', 'movies', 'ever', 'seen', 'million', 'times', 'would', 'never', 'turn', 'opportunity', 'watch', 'fact', 'love', 'much', 'really', 'wanted', 'check', 'resort', 'filmed', 'upcoming', 'vacation', 'anyone', 'know', 'name', 'please', 'email', 'watched', 'movie', 'first', 'time', 'first', 'released', 'nikkis', 'age', 'longest', 'time', 'bugged', 'dad', 'take', 'away', 'somewhere', 'course', 'expected', 'thing', 'happen', 'amazing', 'setting', 'cute', 'puppylove', 'story', 'definite', 'dvd', 'collectors', 'must']"
        ],
        [
         "20",
         "['ambiguity', 'michael', 'myers', 'withered', 'away', 'thanks', 'series', 'chronic', 'habit', 'arseholing', 'continuity', 'pulling', 'relatives', 'nowhere', 'entry', 'introduces', 'potty', 'angle', 'hes', 'psycho', 'killer', 'actually', 'controlled', 'runes', 'appear', 'star', 'constellation', 'every', 'halloween', 'cult', 'using', 'erm', 'well', 'film', 'far', 'coherent', 'lost', 'track', 'plot', 'movie', 'hemorrhages', 'credibility', 'profusely', 'doesnt', 'drop', 'left', 'end', 'michael', 'put', 'one', 'victims', 'clothes', 'washing', 'machine', 'otherwise', 'empty', 'corridor', 'deadly', 'spike', 'sticking', 'wall', 'getting', 'electrocuted', 'really', 'make', 'head', 'explode', 'left', 'donald', 'pleasence', 'penultimate', 'film', 'role', 'produce', 'wonderful', 'little', 'moments', 'pile', 'dreadful', 'dialogue', 'hes', 'given']"
        ],
        [
         "21",
         "['biggest', 'mystery', 'veronica', 'mars', 'one', 'tackle', 'screenrather', 'mystery', 'perennial', 'ratings', 'disappointment', 'still', 'air', 'week', 'marked', 'nadir', 'veronica', 'mars', 'ranked', '146', '146', 'shows', 'big', '6', 'soon', 'big', '5', 'yes', 'read', 'right', 'veronica', 'mars', 'beaten', 'every', 'show', 'nowdefunct', 'wb', 'every', 'show', 'upn', 'beat', 'shows', 'fox', 'course', 'shows', 'abc', 'cbs', 'nbcnow', 'hip', 'hypesters', 'going', 'say', 'rerun', 'everything', 'tv', 'week', 'pretty', 'much', 'rerun', 'boggles', 'mind', 'cw', 'would', 'choose', 'proved', 'ratings', 'disappointment', 'one', 'shows', 'saved', 'upnclearly', 'something', 'going', 'behind', 'scenes', 'favors', 'exchanged', 'influence', 'peddledsorry', 'cynical', 'explanation', 'veronica', 'mars', 'potential', 'line', 'clearly', 'dead', 'two', 'years', 'establish', 'failed', 'somaybe', 'joel', 'silvers', 'influence', 'clout', 'frankly', 'loss', 'anyone', 'would', 'choose', 'spend', 'clout', 'bad', 'show', 'audience', 'watchinga', 'great', 'mystery', 'inauspicious', 'debut', 'cw']"
        ],
        [
         "22",
         "['many', 'many', 'years', 'gaijin', 'visited', 'japan', 'learning', 'martial', 'arts', 'instead', 'acquiring', 'knowledge', 'gainjin', 'told', 'nihonjin', 'could', 'achieve', 'excelent', 'performance', 'required', 'show', 'techniques', 'public', 'performance', 'moviethis', 'one', 'special', 'movie', 'made', 'sho', 'kosugi', 'shows', 'techniques', 'skills', 'also', 'teaches', 'many', 'many', 'lessons', 'achieve', 'one', 'verify', 'seeing', 'lucinda', 'dickey', 'performing', 'fantastic', 'unforgettable', 'acting', 'skills', 'ninjutsui', 'strongly', 'recommend', 'watching', 'movie', 'thrice', 'three', 'times', 'enough', 'seek', 'hints', 'tips', 'given', 'easily', 'sho', 'kosugi', 'really', 'seek', 'knowledge', 'gnosis']"
        ],
        [
         "23",
         "['arrival', 'white', 'men', 'arctic', 'canada', 'challenges', 'freedom', 'fearless', 'eskimo', 'hunterw', 'van', 'dyke', 'mgms', 'peripatetic', 'director', 'responsible', 'fascinating', 'look', 'life', 'arctic', 'among', 'inuit', 'production', 'location', 'filming', 'april', '1932', 'november', '1933', 'although', 'annoying', 'rear', 'projection', 'effects', 'show', 'shooting', 'took', 'place', 'back', 'studio', 'considered', 'documentary', 'time', 'would', 'likely', 'term', 'docudrama', 'scripted', 'intriguing', 'plot', 'storylinethe', 'film', 'shows', 'daily', 'life', 'eskimo', 'winter', 'summer', 'fact', 'starts', 'warmer', 'time', 'year', 'without', 'snow', 'ice', 'sight', 'constant', 'striving', 'food', 'depicted', 'viewer', 'gets', 'watch', 'exciting', 'hunts', 'walrus', 'polar', 'bear', 'whale', 'caribou', 'native', 'language', 'used', 'throughout', 'use', 'title', 'cards', 'english', 'spoken', 'fishermen', 'mounties', 'encountered', 'eskimo', 'fact', 'arrival', 'white', 'men', 'good', 'bad', 'change', 'make', 'eskimo', 'society', 'major', 'element', 'narrativethis', 'precode', 'film', 'deals', 'refreshingly', 'frank', 'manner', 'eskimo', 'moral', 'code', 'particularly', 'practice', 'wifesharing', 'important', 'completely', 'innocent', 'part', 'culture', 'fact', 'entire', 'film', 'appreciated', 'valuable', 'look', 'way', 'life', 'rapidly', 'disappearing', 'even', 'early', '1930snone', 'cast', 'receives', 'screen', 'credit', 'shame', 'notable', 'performances', 'foremost', 'among', 'ray', 'wise', 'playing', 'leading', 'role', 'mala', 'eskimo', 'wise', '19061952', 'alaskan', 'native', 'inuit', 'ancestry', 'absolutely', 'splendid', 'perfectly', 'believable', 'demanding', 'part', 'handsome', 'hollywood', 'star', 'would', 'continue', 'acting', 'using', 'name', 'ray', 'mala', 'sporadic', 'film', 'career', 'often', 'tiny', 'unbilled', 'roleslovely', 'japanesehawaiian', 'actress', 'lotus', 'long', 'plays', 'malas', 'loyal', 'second', 'wife', 'names', 'fine', 'actresses', 'playing', 'two', 'wives', 'obscure', 'director', 'woody', 'van', 'dyke', 'steps', 'front', 'cameras', 'strict', 'north', 'west', 'mounted', 'police', 'inspector', 'two', 'decenthearted', 'mounties', 'must', 'deliver', 'mala', 'canadian', 'justice', 'played', 'joe', 'sawyer', 'edgar', 'dearing', 'longtime', 'movie', 'character', 'actors', 'danish', 'author', 'peter', 'freuchen', 'upon', 'whose', 'books', 'film', 'based', 'short', 'vivid', 'role', 'evil', 'woodenlegged', 'sea', 'captain', 'unwisely', 'rouses', 'malas', 'icy', 'wrath']"
        ],
        [
         "24",
         "['unfortunately', 'showing', 'star', 'movies', 'thailand', 'last', 'week', 'complete', 'rubbish', 'acting', 'another', 'member', 'said', 'movie', 'good', 'example', 'act', 'havent', 'seen', 'movie', 'poorly', 'acted', 'long', 'time', 'actors', 'call', 'actors', 'completely', 'flat', 'deliver', 'lines', 'passion', 'dead', 'dog', 'would', 'say', 'order', 'truly', 'understand', 'bad', 'acting', 'would', 'see', 'movie', 'would', 'akin', 'torturei', 'cringe', 'leading', 'lady', 'delivers', 'lines', 'rest', 'cast', 'accents', 'fake', 'contrived', 'equally', 'heinous', 'another', 'actress', 'fake', 'british', 'accent', 'pretty', 'yes', 'good', 'lord', 'accent', 'terrible', 'mix', 'lack', 'acting', 'disaster', 'said', 'nothing', 'could', 'accepted', 'pretty', 'girl', 'oh', 'got', 'scene', 'leading', 'ladys', 'lover', 'says', 'really', 'forced', 'crying', 'scene', 'laughable', 'really', 'laughed', 'loudthe', 'sets', 'art', 'directors', 'offer', 'saving', 'grace', 'film', 'sets', 'colorful', 'scenes', 'rather', 'nice', 'minus', 'actorsthe', 'old', 'magic', 'potion', 'lady', 'another', 'member', 'mentioned', 'modern', 'love', 'song', 'movie', 'totally', 'inappropriate', 'period', 'piece', 'set', '500', 'years', 'agoi', 'understand', 'movie', 'considered', 'big', 'budget', 'thailand', 'time', 'production', 'would', 'seriously', 'upset', 'producer', 'movie', 'goes', 'show', 'money', 'necessarily', 'make', 'good', 'even', 'mediocre', 'filmi', 'would', 'give', 'king', 'maker', '1', '10', 'costumes', 'sets', 'make', 'save', 'film', 'rating', '2', '10']"
        ],
        [
         "25",
         "['underrated', 'movie', 'say', 'least', 'pointed', 'previous', 'posts', 'movie', 'somewhat', 'loose', 'highly', 'implausible', 'script', 'find', 'saying', 'cares', 'shooting', 'milk', 'insert', 'beverage', 'choice', 'nose', 'indeed', 'due', 'rare', 'mix', 'actors', 'sync', 'kelsey', 'grammar', 'obviously', 'gifted', 'actor', 'reference', 'frasier', 'movie', 'supporting', 'actorsactress', 'play', 'roles', 'quite', 'well', 'found', 'interesting', 'threw', 'part', 'duane', 'martin', 'blowing', 'shot', 'big', 'game', 'navys', 'basketball', 'team', 'basketball', 'fan', 'youll', 'remember', 'martin', 'white', 'men', 'cant', 'jump', 'rim', 'youll', 'know', 'martin', 'short', 'stint', 'nba', 'knicks', 'nice', 'threw', 'believable', 'character', 'attributes', 'rob', 'schneiders', 'analretentive', 'character', 'perfect', 'offset', 'grammars', 'calm', 'demeanor', 'lauren', 'holly', 'played', 'gutsysexpotwithabrain', 'well', 'enough', 'make', 'want', 'succeed', 'movie', 'make', 'laugh', 'even', 'youve', 'seen', 'many', 'times', 'beforethe', 'comic', 'bits', 'movie', 'definitely', 'last', 'still', 'find', 'laughing', '12', 'years', 'lateris', 'one', 'chickens', 'uhhhno', 'parrotfrom', 'caribbean', 'well', 'dont', 'let', 'fly', 'awaythats', 'supper', 'arrrrrarr']"
        ],
        [
         "26",
         "['favorite', 'movie', 'time', 'love', 'trouble', 'teams', 'get', 'great', 'michael', 'j', 'fox', 'looked', 'young', 'guess', 'wasthe', 'teams', 'stereotypical', 'laugh']"
        ],
        [
         "27",
         "['may', 'worst', 'movie', 'peter', 'sellers', 'ever', 'think', 'laurel', 'goes', 'prisoner', 'zenda', 'surely', 'depressing', 'sellers', 'especially', 'sans', 'makeup', 'nayland', 'smith', 'looks', 'like', 'undergone', 'chemotherapy', 'fu', 'manchu', 'looks', 'hardly', 'better', 'spends', 'film', 'exception', 'strangely', 'disturbing', 'scenes', 'gets', 'jolted', 'electrical', 'currents', 'verge', 'collapsing', 'weight', 'makeup', 'supporting', 'players', 'also', 'look', 'tired', 'run', 'sid', 'caesers', 'presence', 'offensive', 'even', 'without', 'constant', 'references', 'chinks', 'one', 'bright', 'spot', 'would', 'one', 'last', 'times', 'major', 'motion', 'picture', 'would', 'portray', 'asians', 'insultingly', 'matter', 'star', 'nonasian', 'one', 'film', 'seems', 'surprisingly', 'cheap', 'soupy', 'photography', 'drab', 'sets', 'even', 'whizbang', 'elvis', 'number', 'end', 'looks', 'cutrate', 'stunning', 'helen', 'mirren', 'tall', 'thin', 'nervous', 'guy', 'get', 'pants', 'wet', 'add', 'sparks', 'life', 'sad', 'affair', 'film', 'provides', 'eerie', 'premonition', 'great', 'comics', 'death', 'even', 'eerier', 'documentation', 'dying']"
        ],
        [
         "28",
         "['enjoy', 'riddles', 'suspense', 'enjoy', 'movie', 'truth', 'told', 'mostly', 'adrian', 'paul', 'part', 'got', 'pick', 'knew', 'almost', 'nothing', 'movie', 'beforehand', 'plot', 'sarah', 'carly', 'pope', 'student', 'philosophy', 'metaphysics', 'starts', 'playing', 'mysterious', 'riddle', 'game', 'trying', 'figure', 'reason', 'gets', 'involved', 'game', 'solving', 'riddles', 'vern', 'adrian', 'paul', 'shop', 'owner', 'also', 'riddle', 'fanatic', 'also', 'gets', 'entangled', 'game', 'myth', 'solve', 'game', 'meaning', 'existence', 'referred', 'design', 'revealed', 'brendan', 'fehrs', 'character', 'village', 'idiot', 'type', 'hanging', 'around', 'shop', 'turns', 'seems', 'thought', 'movie', 'pretty', 'well', 'done', 'definitely', 'original', 'concept', 'rare', 'find', 'days', 'personally', 'happen', 'like', 'riddles', 'puns', 'werent', 'difficult', 'still', 'fun', 'movie', 'well', 'worth', 'rental', 'havent', 'seen', 'get']"
        ],
        [
         "29",
         "['bought', 'vhs', 'film', 'two', 'bucks', 'waste', 'money', 'hey', 'dig', 'adam', 'batman', 'west', 'tina', 'giligans', 'island', 'louise', 'hello', 'third', 'rate', 'production', 'rehash', 'dozen', 'biker', 'films', 'crazed', 'bunch', 'bikers', 'psychos', 'ride', 'hick', 'town', 'beat', 'everybody', 'everything', 'defeated', 'man', 'dashing', 'hero', 'adam', 'west', 'looks', 'part', 'hero', 'hes', 'missing', 'cape', 'batman', 'uniform', 'sorry', 'isnt', 'tina', 'l', 'looks', 'really', 'nervous', 'frightened', 'whole', 'show', 'least', 'know', 'happened', 'ginger', 'rescued', 'islandlol', 'bikers', 'motley', 'group', 'known', 'ever', 'acted', 'least', 'shouldnt', 'hell', 'riders', 'hell', 'watch']"
        ],
        [
         "30",
         "['say', 'short', 'little', 'film', 'filled', 'secondary', 'actors', 'stars', 'absolutely', 'bad', 'performances', 'one', 'poorly', 'delivered', 'line', 'dialog', 'cold', 'violence', 'one', 'hand', 'balanced', 'warm', 'heart', 'protagonists', 'story', 'jewel', 'diamond', 'little', 'valuable', 'gem', 'western', 'evokes', 'spirit', 'legend', 'american', 'west', 'west', 'settled', 'grand', 'heroes', 'like', 'hickock', 'cody', 'masterson', 'earp', 'spread', 'everyday', 'man', 'woman', 'farmers', 'ranch', 'hands', 'merchants', 'miners', 'lumbermen', 'whores', 'barkeeps', 'entertainers', 'day', 'looking', 'riches', 'peace', 'quiet', 'religious', 'freedom', 'perhaps', 'spiritual', 'story', 'though', 'promoting', 'particular', 'religion', 'even', 'nonmormon', 'cowboys', 'portrayed', 'ben', 'johnson', 'harry', 'carey', 'jr', 'act', 'kind', 'noble', 'ways', 'toward', 'everybody', 'story', 'regardless', 'religious', 'affiliation', 'beliefs', 'go', 'way', 'promote', 'tolerance', 'charity', 'wagon', 'train', 'comes', 'upon', 'stranded', 'medicine', 'show', 'people', 'true', 'biblical', 'fashion', 'like', 'david', 'goliath', 'samson', 'philistines', 'guardian', 'angels', 'sent', 'wagon', 'train', 'eventually', 'go', 'head', 'head', 'evil', 'incarnate', 'clegg', 'clan', 'likening', 'serpent', 'garden', 'eden', 'regretting', 'afterward', 'sweet', 'folkloric', 'tale', 'west', 'hits', 'every', 'target', 'john', 'ford', 'takes', 'aim', 'atnowadays', 'western', 'santa', 'claus', 'whose', 'red', 'outfit', 'covered', 'denim', 'drover', 'coat', 'whose', 'red', 'stocking', 'cap', 'replaced', 'brown', 'stetson', 'carries', 'burlap', 'bag', 'presents', 'coil', 'rope', 'santa', 'added', 'winchester', 'rifle', 'sling', 'put', 'one', 'shoulders', 'colt', 'revolver', 'tuck', 'waistband', 'people', 'office', 'ask', 'santa', 'carry', 'guns', 'simply', 'reply', 'snakes', 'isnt', 'spirit', 'christmas', 'season', 'one', 'everybody', 'get', 'deserve', 'fifty', 'five', 'years', 'later', 'especially', 'post911', 'philosophies', 'attributes', 'demonstrated', 'characters', 'story', 'movie', 'still', 'relevant', 'today', 'back']"
        ],
        [
         "31",
         "['barely', 'remember', 'show', 'little', 'remembered', 'great', 'eldest', 'brother', 'reminded', 'show', 'recently', 'seen', 'advertisement', 'dvd', 'set', 'coming', 'network', 'screwed', 'pulling', 'air', 'could', 'put', 'else', 'place', 'gone', 'least', '3', 'seasons', 'right', 'think', 'sometimes', 'network', 'executives', 'think', 'gods', 'entertainment', 'world', 'misguess', 'flat', 'miss', 'good', 'show', 'placement', 'time', 'time', 'let', 'said', 'lot', 'flops', 'hits', 'one', 'poor', 'decisions', 'cut', 'lineup', 'anyhow', 'getting', 'collection']"
        ],
        [
         "32",
         "['movies', 'basic', 'premise', 'everyone', 'world', 'know', 'person', 'gay', 'except', 'person', 'man', 'likes', 'show', 'tunes', 'good', 'taste', 'neat', 'appearance', 'must', 'homosexual', 'yes', 'movie', 'funny', 'parts', 'basic', 'premise', 'homophobic', 'insulting', 'entire', 'movie', 'crumbles', 'something', 'quite', 'painful', 'sit', 'performances', 'particularly', 'joan', 'cusak', 'kevin', 'kline', 'good']"
        ],
        [
         "33",
         "['along', 'hare', 'tonic', 'ranks', 'one', 'best', 'bugs', 'cartoons', 'indeed', 'one', 'best', 'bugs', 'ever', 'comments', 'bugs', 'cartoons', 'basic', 'meaning', 'guess', 'yet', 'fully', 'developed', 'actually', 'prefer', 'basic', 'version', 'mid40s', 'chuck', 'jones', 'best', 'version', 'actually', 'rabbitsized', 'far', 'amusing', 'eventual', 'longlegged', 'version', 'towered', 'yosemite', 'sam', 'daffy', 'duck', 'latterday', 'bugs', 'came', 'suave', 'sophisticated', 'liking', 'also', 'check', 'hair', 'raising', 'hare', '1946', 'rabbit', 'punch', '1948', 'great', 'examples', 'classic', 'bugs', 'classic', 'chuck', 'jones']"
        ],
        [
         "34",
         "['theres', 'old', 'security', 'guard', 'guy', 'dies', 'theres', 'kevin', 'worlds', 'biggest', 'wuss', 'kevin', 'wants', 'impress', 'incredibly', 'insensitive', 'bratty', 'virginal', 'girlfriend', 'amy', 'returns', 'work', 'random', 'house', 'finds', 'friends', 'sexually', 'confusing', 'redshorted', 'kyle', 'truly', 'revolting', 'sluttish', 'daphne', 'soon', 'joined', 'daphnes', 'boyfriend', 'triggerhappy', 'sexcrazed', 'macho', 'lunkhead', 'nick', 'theres', 'title', 'creatures', 'horrid', 'little', 'dogeared', 'puppets', 'kill', 'people', 'giving', 'hearts', 'desire', 'kyles', 'hearts', 'desire', 'mate', 'creepy', 'yucky', 'woman', 'spandex', 'nicks', 'hearts', 'desire', 'throw', 'grenades', 'grade', 'school', 'cafeteria', 'mean', 'nightclub', 'kevins', 'hearts', 'desire', 'beat', 'skinny', 'thug', 'nunchucks', 'amys', 'hearts', 'desire', 'disgusting', 'slut', 'daphnes', 'already', 'disgusting', 'slut', 'doesnt', 'hearts', 'desire', 'along', 'way', 'truly', 'hideous', 'band', 'sings', 'truly', 'odd', 'song', 'hobgoblins', 'randomly', 'go', 'back', 'came', 'blow', 'citizen', 'kane', 'cannot', 'hold', 'candle', 'true', 'masterpiece', 'american', 'cinema']"
        ],
        [
         "35",
         "['like', 'film', 'several', 'reasons', 'soft', 'spot', 'films', 'intricately', 'plotted', 'criminal', 'plots', 'like', 'topkapi', 'also', 'enjoy', 'films', 'like', 'topkapi', 'big', 'deal', 'madonna', 'street', 'spoof', 'genre', 'one', 'best', 'ones', 'disorganized', 'crimecorbin', 'bernsen', 'met', 'four', 'cons', 'years', 'decides', 'useful', 'bank', 'robbery', 'planning', 'small', 'montana', 'town', 'hasnt', 'given', 'details', 'crime', 'fellows', 'really', 'know', 'shortly', 'sends', 'bernsen', 'arrested', 'two', 'new', 'jersey', 'policemen', 'ed', 'oneill', 'daniel', 'roebuck', 'escaped', 'warrant', 'bring', 'back', 'custody', 'four', 'cons', 'fred', 'gwynne', 'lou', 'diamond', 'philips', 'ruben', 'blades', 'russ', 'show', 'without', 'clue', 'except', 'bernsen', 'planning', 'something', 'first', 'twenty', 'minutes', 'film', 'deal', 'four', 'cons', 'slowly', 'getting', 'used', 'gwynne', 'philips', 'managing', 'push', 'away', 'suspicions', 'figure', 'trust', 'time', 'see', 'bernsen', 'patiently', 'waiting', 'right', 'moment', 'escape', 'oneill', 'roebuck', 'difficult', 'brightest', 'bulbs', 'ever', 'existed', 'result', 'two', 'sets', 'plots', 'keep', 'juxtaposing', 'throughout', 'film', 'four', 'cons', 'trying', 'figure', 'bernsens', 'scheme', 'put', 'operation', 'bernsen', 'trying', 'maintain', 'freedom', 'pursuers', 'regain', 'cabin', 'hopefully', 'find', 'gang', 'take', 'command', 'also', 'third', 'smaller', 'plot', 'involving', 'growing', 'annoyance', 'anger', 'local', 'sheriff', 'hoyt', 'axton', 'idiots', 'new', 'jersey', 'keep', 'getting', 'hairthere', 'many', 'delightful', 'moments', 'film', 'axton', 'egged', 'oneil', 'roebuck', 'surrounding', 'house', 'town', 'bernsen', 'supposed', 'hiding', 'inside', 'yelling', 'megaphone', 'come', 'surrounded', 'scene', 'switch', 'huge', 'montana', 'plain', 'bernsen', 'struggling', 'stumbling', 'miles', 'police', 'think', 'moment', 'moments', 'misadventures', 'four', 'cons', 'fortunately', 'put', 'oldest', 'gwynne', 'leadership', 'position', 'always', 'guarantee', 'anything', 'one', 'point', 'car', 'wont', 'start', 'thumb', 'ride', 'truck', 'unfortunately', 'truck', 'carrying', 'manurethe', 'conclusion', 'gang', 'successfully', 'carrying', 'robbery', 'including', 'disabling', 'police', 'cars', 'critical', 'time', 'philips', 'specialty', 'cars', 'also', 'gem', 'timing', 'suspense', 'comic', 'results', 'film', 'entertaining', 'certainly', 'worth', 'watching']"
        ],
        [
         "36",
         "['yet', 'another', 'version', 'mother', 'gangster', 'flicksthe', 'classic', 'godfather', 'yet', 'another', 'case', 'overhype', 'due', 'media', 'circus', 'sarkar', '13th', 'hindi', 'film', 'ram', 'gopal', 'varma', 'director', 'also', 'weakest', 'underworld', 'trilogy', 'including', 'two', 'excellentsatya', 'company', 'charisma', 'magnetic', 'persona', 'two', 'bachchans', 'playing', 'fatherson', 'duo', 'screen', 'first', 'time', 'definitely', 'treat', 'watch', 'strong', 'performances', 'perfect', 'chemistry', 'biggest', 'scoring', 'point', 'varma', 'applauded', 'however', 'equation', 'duo', 'missing', 'characters', 'film', 'reasonthe', 'characters', 'look', 'like', 'cardboard', 'caricatures', 'esp', 'villains', 'represent', 'typical', 'bollywood', 'baddies', 'character', 'attracts', 'attention', 'elder', 'son', 'played', 'kaykay', 'able', 'hold', 'due', 'halfbaked', 'characterization', 'drama', 'conflict', 'brought', 'alive', 'excessive', 'use', 'closeshots', 'brought', 'claustrophobic', 'effect', 'rightly', 'needed', 'construct', 'ambiance', 'haunting', 'score', 'amar', 'mohile', 'sound', 'design', 'kunal', 'mehta', 'parikshit', 'lalwani', 'anup', 'dev', 'together', 'dark', 'murky', 'background', 'overlapped', 'shinning', 'powerful', 'images', 'camerawork', 'amit', 'roy', 'contributes', 'visuals', 'typical', 'ramus', 'style', 'overuse', 'music', 'though', 'fortunately', 'songs', 'film', 'interest', 'todays', 'intelligently', 'growing', 'audience', 'sustained', 'shoulders', 'two', 'performers', 'strong', 'visuals', 'dont', 'think', 'surely', 'audience', 'maangey', 'film', 'fails', 'deliver', 'adaptation', 'order', 'add', 'new', 'dimension', 'biggest', 'prerequisite', 'screenplay', 'sluggish', 'crisp', 'places', 'therefore', 'pace', 'slackens', 'quite', 'often', 'finally', 'audience', 'subjected', 'highly', 'predictable', 'commonplace', 'drama', 'little', 'surprise', 'elements', 'top', 'stunt', 'director', 'allan', 'amin', 'ghani', 'also', 'best', 'form', 'scenes', 'require', 'different', 'treatment', 'includes', 'minister', 'talking', 'foul', 'sarkar', 'son', 'overhearing', 'amateurish', 'shoot', 'jail', 'sarkar', 'sarkar', 'jr', 'escapes', 'clutches', 'enemies', 'son', 'easily', 'motivated', 'kill', 'father', 'son', 'secretly', 'entering', 'fathers', 'room', 'kill', 'police', 'commissioner', 'slapping', 'sarkar', 'jrall', 'requires', 'realistic', 'hardhitting', 'approach', 'backbone', 'create', 'required', 'conflict', 'dialogues', 'weak', 'eg', 'look', 'amateurish', 'line', 'cm', 'says', 'sarkar', 'jr', '\\x96wo', 'jo', 'police', 'commissioner', 'tha', 'na', 'usay', 'maine', 'hata', 'diya', 'women', 'folk', 'take', 'sarkars', 'working', 'completely', 'ignored', 'uninterrupted', 'negotiations', 'criminal', 'activities', 'sarkar', 'family', 'also', 'look', 'slightly', 'place', 'fact', 'film', 'follows', 'graph', 'quite', 'similar', 'ramus', 'productionab', 'tak', 'chhappan', 'depicting', 'battle', 'good', 'evil', 'side', 'lifethe', 'law', 'police', 'administration', 'politics', 'completely', 'ignored', 'certainly', 'expected', 'content', 'film', 'definitely', 'falls', 'short', 'could', 'rise', 'average', 'fare', 'dear', 'ramu', 'agreed', 'laughing', 'way', 'bank', 'definitely', 'need', 'take', 'drastic', 'overhauling', 'measures', 'film', 'production', 'factory', 'late']"
        ],
        [
         "37",
         "['saw', 'movie', 'intention', 'liking', 'sure', 'didnt', 'one', 'movies', 'seems', 'made', 'exclusively', 'oscars', 'music', 'throughout', 'film', 'almost', 'every', 'single', 'frame', 'almost', 'profanity', 'set', 'time', 'long', 'gone', 'sepiatoned', 'imagery', 'pretentious', 'title', 'sex', 'genius', 'explains', 'everything', 'thinks', 'concludes', 'sfxcgi', 'stupid', 'audience', 'get', 'one', 'thing', 'amused', 'though', 'fact', 'spelled', 'nobel', 'price', 'wrong', 'instead', 'call', 'nobelprice', 'named', 'actual', 'person', 'called', 'alfred', 'nobel', 'nobleprice', 'jesus', 'one', 'make', 'mistake', 'big', 'production', 'supposedly', 'based', 'true', 'story', 'sham', 'others', 'thinking', 'ron']"
        ],
        [
         "38",
         "['hoot', 'new', 'kid', 'arrives', 'florida', 'montana', 'first', 'faces', 'usual', 'problems', 'blending', 'dealing', 'local', 'bully', 'soon', 'though', 'becomes', 'aware', 'bigger', 'problem', 'franchise', 'restaurant', 'chain', 'trying', 'build', 'site', 'town', 'right', 'number', 'burrowing', 'owls', 'live', 'movie', 'look', 'family', 'film', 'pretty', 'radical', 'seems', 'shows', 'sympathetically', 'roy', 'couple', 'friends', 'shy', 'away', 'lawbreaking', 'including', 'vandalism', 'private', 'property', 'briefly', 'kidnapping', 'manager', 'chain', 'restaurants', 'name', 'environmentalism', 'save', 'owls', 'less', 'one', 'might', 'agree', 'actions', 'least', 'movie', 'courage', 'shying', 'away', 'convictions', 'good', 'solid', 'film']"
        ],
        [
         "39",
         "['strangeland', 'seems', 'lovehate', 'relationship', 'many', 'viewers', 'personally', 'loved', 'movie', 'everything', 'itthe', 'acting', 'places', 'could', 'improved', 'upon', 'filming', 'adds', 'atmosphere', 'acting', 'cant', 'areas', 'dialogue', 'bit', 'cheesy', 'dramatic', 'really', 'expect', 'late', '90s', 'dee', 'amazing', 'job', 'writing', 'believe', 'one', 'terrifying', 'thrillers', 'ive', 'ever', 'seen', 'plays', 'fears', 'many', 'age', 'groupsadult', 'parents', 'children', 'every', 'parent', 'fears', 'children', 'get', 'involved', 'chat', 'rooms', 'meet', 'strangers', 'internet', 'happen', 'real', 'world', 'every', 'child', 'adult', 'fears', 'kidnapped', 'tortured', 'happens', 'real', 'world', 'makes', 'movie', 'sensitive', 'subject', 'manymy', 'warning', 'know', 'sensitive', 'things', 'strong', 'violence', 'visible', 'torture', 'gore', 'want', 'see', 'movie', 'unsure', 'movie', 'entertain', 'read', 'many', 'reviews', 'ask', 'people', 'know', 'seen', 'movie', 'prepared', 'turn', 'movie', 'time', 'become', 'disturbed']"
        ],
        [
         "40",
         "['film', 'auteur', 'stephan', 'woloszczuk', 'explores', 'depths', 'love', 'passion', 'brotherhood', 'devastating', 'results', 'loss', 'latest', 'film', 'blindspotblindspots', 'diegetic', 'world', 'exploding', 'suspense', 'takes', 'audience', 'twisting', 'journey', 'core', 'human', 'soul', 'director', 'manages', 'draw', 'human', 'spirit', 'performances', 'actors', 'superb', 'editing', 'especially', 'flashback', 'scenes', 'beautiful', 'cinematography', 'blindspot', 'thought', 'provoking', 'suspense', 'beginning', 'end', 'thriller', 'leaves', 'much', 'minds', 'eyewhat', 'astounding', 'accomplishment', 'stephan', 'woloszczuk', 'cheers', 'stephan', 'angela', 'sander']"
        ],
        [
         "41",
         "['hard', 'assign', 'fair', 'number', 'stars', 'film', 'settled', '8', 'high', 'production', 'values', '1968', 'innovative', 'approach', 'war', 'film', 'remember', 'havent', 'seen', 'since', '1969', 'make', 'strong', 'impressionthe', 'long', 'days', 'dying', 'must', 'one', 'vivid', 'antiwar', 'films', 'ever', 'made', 'achieves', 'simply', 'portraying', 'extremely', 'realistic', 'terms', 'actions', 'handful', 'soldiers', 'northwestern', 'europe', '194445', 'film', 'one', 'showed', 'war', 'infantry', 'squad', 'level', 'much', 'brutal', 'detail', 'coldly', 'dispassionate', 'way', 'lets', 'actions', 'speak', 'preaching', 'sentimentality', 'comic', 'relief', 'complicated', 'scenariosunfortunately', 'theres', 'subtlety', 'either', 'partly', 'situation', 'trying', 'stay', 'alive', 'characters', 'come', 'across', 'flat', 'familiar', 'clichés', 'entertainment', 'film', 'doesnt', 'make', 'though', 'clearly', 'intended', 'entertain', 'intended', 'slug', 'head', 'misery', 'horror', 'world', 'war', 'ii', 'modern', 'war', 'general', 'twenty', 'years', 'platoon', 'thirty', 'saving', 'private', 'ryan', 'far', 'watchable', 'films', 'flat', 'generally', 'disagreeable', 'characters', 'lack', 'actual', 'plot', 'realistically', 'unpleasant', 'images', 'including', 'may', 'first', 'onscreen', 'vomit', 'theatrical', 'history', 'make', 'film', 'hard', 'sit', 'though', '95', 'minutesso', '10', 'stars', 'production', 'realism', '4', 'stars', 'feeling', 'youll', 'bonus', 'star', 'heart', 'right', 'place', 'average', '8like', 'carl', 'foremans', 'underrated', 'victors', 'equally', 'downbeat', 'interesting', 'thoughtprovoking', 'film', 'long', 'days', 'dying', 'seems', 'dvd', 'films', 'cable', 'number', 'times']"
        ],
        [
         "42",
         "['movie', 'disappeared', 'obscurity', 'absolute', 'crime', 'conan', 'perhaps', 'sword', 'sorcery', 'movie', 'better', 'brutal', 'violence', 'cool', 'character', 'designs', 'good', 'pacing', 'make', 'one', 'best', 'fantasies', 'around', 'certainly', 'greatest', 'animated', 'movie', 'aimed', 'adult', 'audience', 'ever', 'seen', 'similar', 'bakshis', 'usual', 'frenetic', 'style', 'quite', 'departure', 'bakshi', 'opinion', 'best', 'work', 'hope', 'film', 'gets', 'recognition', 'deserves']"
        ],
        [
         "43",
         "['surprised', 'bad', 'movie', 'nice', 'cinematography', 'beautiful', 'landscapes', 'take', 'movie', 'far', 'hoping', 'rerun', 'hero', 'much', 'much', 'worsethis', 'movie', 'kung', 'fu', 'movies', 'got', 'bad', 'reputation', 'first', 'place', 'believable', 'characters', 'even', 'within', 'cartoonish', 'world', 'kung', 'fu', 'movies', 'characters', 'ridiculous', 'virtually', 'plot', 'ridiculous', 'story', 'twiststhis', 'movie', 'boring', 'frustrating', 'reminds', 'trying', 'play', 'make', 'believe', 'game', 'child', 'every', 'time', 'think', 'silly', 'battle', 'makes', 'sense', 'invent', 'another', 'ridiculous', 'twist', 'makes', 'sense', 'ah', 'ha', 'think', 'youve', 'got', 'super', 'powers', '10000', 'ray', 'guns', 'ate', 'vitamins', 'laced', 'plutonium', 'teflon', 'ray', 'guns', 'dont', 'work', 'im', 'invulnerable', 'super', 'powerstap', 'tap', 'trade', 'backs', 'infinity', 'plus', 'one', 'children', 'continue', 'lunacy', 'dont', 'really', 'care', 'whether', 'anyone', 'listening', 'fun', 'time', 'however', 'viewer', 'especially', 'adult', 'viewer', 'long', 'movie', 'worse', 'bout', 'bad', 'gasspoilers', 'ahead', 'note', 'kung', 'fu', 'movie', 'makers', 'knife', 'back', 'hurts', 'unless', 'pcp', 'case', 'kung', 'fu', 'strong', 'b', 'repeatedly', 'fall', 'back', 'knife', 'hurt', 'damage', 'unless', 'fake', 'prop', 'c', 'get', 'stabbed', 'heart', 'knife', 'die', 'especially', 'ancient', 'china', 'isnt', 'kaiser', 'permanente', 'around', 'corner', 'kung', 'fu', 'fights', 'dont', 'last', 'hours', '3', 'feet', 'snow', 'falls', 'e', 'sometimes', 'worth', 'explaining', 'characters', 'motivationsin', 'event', 'go', 'watch', 'hero', 'least', 'within', 'little', 'world', 'comprehensible']"
        ],
        [
         "44",
         "['one', 'best', 'charlie', 'chaplins', 'lengthier', 'short', 'films', 'places', 'little', 'fellow', 'trenches', 'wwi', 'brings', 'intolerable', 'politeness', 'endless', 'patience', 'drudgery', 'trench', 'life', 'troops', 'lived', 'months', 'time', 'finally', 'going', 'top', 'overtake', 'enemy', 'usually', 'deaths', 'takes', 'someone', 'chaplins', 'skill', 'comedian', 'make', 'something', 'dreary', 'trench', 'warfare', 'brilliant', 'comedy', 'irony', 'uses', 'film', 'makes', 'even', 'uncomfortable', 'conditions', 'highly', 'amusinglike', 'best', 'chaplins', 'films', 'short', 'films', 'otherwise', 'one', 'packed', 'brilliant', 'memorable', 'scenes', 'scene', 'marks', 'kills', 'piece', 'chalk', 'board', 'trench', 'erasing', 'one', 'gets', 'helmet', 'shot', 'scene', 'fellow', 'soldiers', 'sleeping', 'underwater', 'opening', 'beer', 'bottle', 'lighting', 'cigarette', 'course', 'overtaking', 'enemy', 'scenes', 'showstoppers', 'reminiscent', 'wonderful', 'chaplin', 'scenes', 'one', 'missed']"
        ],
        [
         "45",
         "['wonderful', 'movie', 'lot', 'ways', 'everyone', 'family', 'enjoyed', 'animation', 'excellent', 'easily', 'demonstrates', 'plenty', 'producers', 'create', 'films', 'visually', 'brilliant', 'anything', 'comes', 'disney', 'studioone', 'difference', 'normal', 'disney', 'fare', 'dreamworks', 'movie', 'feature', 'wisecracking', 'side', 'kick', 'comedy', 'relief', 'sudden', 'moments', 'characters', 'break', 'song', 'sure', 'scene', 'beginning', 'film', 'would', 'appear', 'disney', 'picture', 'birth', 'spirit', 'done', 'tastefully', 'offensive', 'spirit', 'great', 'breath', 'fresh', 'air', 'dont', 'get', 'wrong', 'loved', 'disney', 'years', 'continue', 'spirit', 'another', 'example', 'great', 'animated', 'fare', 'soon', 'kids', 'wanted', 'watch', 'feeling', 'thoroughly', 'recommend']"
        ],
        [
         "46",
         "['obviously', 'didnt', 'see', 'looking', 'cast', 'seeing', 'doug', 'masters', 'back', 'dead', 'know', 'avoid', 'like', 'plague', 'hate', 'hollywood', 'producers', 'writers', 'directors', 'think', 'audiences', 'stupid', 'theyre', 'going', 'catch', 'continuity', 'errors', 'supposedly', 'dead', 'doug', 'masters', 'returning', 'big', 'giant', 'one', 'wont', 'sayand', 'cant', 'believe', 'someone', 'like', 'louis', 'gossett', 'jr', 'would', 'return', 'something', 'like', 'thatdid', 'jason', 'gedrick', 'really', 'decline', 'well', 'hate', 'say', 'even', 'took', 'role', 'would', 'still', 'continuity', 'error', 'bet', 'really', 'turned', 'must', 'incredulous', 'seeing', 'character', 'died', 'second', 'filmill', 'probably', 'catch', 'accident', 'late', 'night', 'air', 'channel', 'way', 'going', 'rent', 'buy', 'dvd']"
        ],
        [
         "47",
         "['expecting', 'see', 'another', 'nunsploitation', 'movie', 'mean', 'mother', 'superior', 'abusing', 'torturing', 'charges', 'flavia', 'turned', 'much', 'anticipatedit', 'actually', 'feminist', 'storyline', 'though', 'dont', 'think', 'term', 'existed', 'era', 'movie', 'set', 'certainly', 'wasnt', 'practiced', 'women', 'jews', 'poor', 'downtrodden', 'locked', 'menial', 'spots', 'society', 'throughout', 'story', 'sister', 'flavia', 'florinda', 'bolkan', 'witnesses', 'tyranny', 'time', 'cant', 'sit', 'longer', 'actually', 'something', 'albeit', 'disastrous', 'resultsthe', 'precredit', 'sequence', 'flavia', 'young', 'adolescent', 'near', 'battlefield', 'sees', 'injured', 'evil', 'muslim', 'soldier', 'one', 'still', 'alive', 'tries', 'assist', 'hatefilled', 'father', 'beheads', 'soldier', 'waves', 'head', 'face', 'great', 'family', 'dynamics', 'huh', 'father', 'forces', 'join', 'convent', 'witnesses', 'even', 'injustice', 'though', 'scenes', 'involve', 'violence', 'rape', 'nuns', 'would', 'consider', 'historical', 'drama', 'nunsploitation', 'indeed', 'many', 'ingredients', 'trashy', 'exploitation', 'piece', 'acting', 'camerawork', 'storyline', 'music', 'good', 'keep', 'level', 'nun', 'films', 'ive', 'seen', 'usually', 'basic', 'premise', 'good', 'girl', 'somehow', 'winds', 'convent', 'mother', 'superior', 'supreme', 'bitch', 'likes', 'whip', 'people', 'andor', 'make', 'lives', 'living', 'hellflavia', 'spends', 'much', 'first', 'part', 'movie', 'passively', 'questioning', 'atrocities', 'happening', 'around', 'much', 'passivity', 'forgotten', 'becomes', 'acquainted', 'strongspirited', 'slightly', 'loony', 'likes', 'pee', 'outside', 'like', 'lot', 'easier', 'guys', 'sister', 'agatha', 'group', 'muslims', 'attack', 'abbey', 'flavia', 'agatha', 'cower', 'fear', 'like', 'nuns', 'attackers', 'actually', 'function', 'liberators', 'cruelty', 'nearslavery', 'abbey', 'fact', 'christian', 'muslim', 'invader', 'impales', 'dear', 'sister', 'agatha', 'agathas', 'death', 'sends', 'flavia', 'violent', 'crusade', 'oppressed', 'father', 'treats', 'like', 'dirt', 'muslim', 'lover', 'deserts', 'inopportune', 'time', 'dont', 'want', 'give', 'much', 'rest', 'story', 'prepared', 'shocked', 'devastated', 'saddened', 'conclusion', 'great', 'film', 'dont', 'put', 'undeserved', 'reputation', 'trash', 'epic', 'plus', 'earth', 'could', 'movie', 'featuring', 'florinda', 'bolkan', 'claudio', 'cassinelli', 'go', 'wrong', 'familiar', 'maría', 'casares', 'works', 'sister', 'agatha', 'hell', 'characteri', 'read', 'many', 'great', 'reviews', 'synapse', 'us', 'release', 'love', 'german', 'xrated', 'kult', 'dvd', 'copy', 'isnt', 'anamorphic169', 'actually', 'little', 'picture', 'information', 'edges', 'synapses', 'releaseand', 'also', 'many', 'great', 'wise', 'funny', 'lines', 'dialogue', 'many', 'sister', 'agathawhy', 'god', 'male', 'father', 'son', 'holy', 'spirit', 'theyre', 'male', 'flaviathese', 'men', 'afraid', 'look', 'sister', 'afraid', 'power', 'taken', 'away', 'sr', 'agatha', 'regarding', 'christians', 'fleeing', 'muslims', 'arrivewoman', 'going', 'moslems', 'nothing', 'christians', 'havent', 'done', 'ha', 'ha', 'ha', 'sr', 'agatha', 'group', 'fleeing', 'christian', 'womenlord', 'bless', 'moslems', 'putting', 'fear', 'pompous', 'christians', 'flaviadoes', 'take', 'mere', 'sight', 'moslem', 'make', 'ht', 'underclothing', 'sr', 'agathaclosing', 'message', 'flavia', 'gaetani', 'yet', 'muslim', 'longer', 'christian', 'punished', 'runaway', 'nun', 'idea', 'film', 'came', 'events', 'occurred', 'musalman', 'invasions', 'italy', 'culminating', 'even', 'today', 'remembered', 'martyrdom', '800', 'otranto']"
        ],
        [
         "48",
         "['evil', 'big', 'house', 'bad', 'spirit', 'foolishly', 'unleashed', 'torture', 'inside', 'washout', 'movie', 'theres', 'single', 'scary', 'scene', 'one', 'richard', 'crenna', 'overplays', 'nothing', 'role', 'theres', 'animated', 'ghosts', 'disfigurement', 'power', 'saw', 'ghostrape', 'nothing', 'special', 'happens', 'almost', 'whole', 'movie', 'evil', 'gets', 'personified', 'intovictor', 'buono', 'great', 'filmmakers', 'get', 'idea', 'buono', 'scary', 'looks', 'like', 'bum', 'guest', 'starring', 'paycheck', 'pay', 'liquor', 'bill', 'late', 'turn', 'damn', 'thing', 'felt', 'like', 'throwing', 'videocassette', 'window', 'please', 'avoid', 'junk', 'hopefully', 'never', 'see', 'light', 'dvd', 'fade', 'obscurity']"
        ],
        [
         "49",
         "['lisa', 'baumer', 'ida', 'galli', 'adulteress', 'wife', 'big', 'businessman', 'inherits', '1million', 'life', 'insurance', 'husband', 'killed', 'plane', 'crash', 'business', 'trip', 'initially', 'suspected', 'responsible', 'husbands', 'recently', 'changed', 'insurance', 'investigator', 'peter', 'lynch', 'george', 'hiltonand', 'interpol', 'agent', 'tail', 'sure', 'baumer', 'travels', 'athens', 'greece', 'cash', 'inheritance', 'insists', 'casha', 'dangerous', 'turn', 'events', 'lynch', 'whos', 'identity', 'known', 'baumer', 'tries', 'protect', 'lover', 'husband', 'lara', 'florakis', 'nevertheless', 'along', 'henchman', 'sharif', 'tries', 'kill', 'share', 'money', 'deems', 'entitled', 'masked', 'killer', 'starts', 'hisher', 'brutal', 'killings', 'lynch', 'customary', 'hero', 'first', 'suspected', 'greek', 'police', 'warned', 'leave', 'athens', 'police', 'inspector', 'stavrosluigi', 'pistilli', 'familiar', 'face', 'giallo', 'spaghettis', 'lynch', 'aided', 'gorgeous', 'cléo', 'dupont', 'anita', 'strindberg', 'local', 'journalist', 'helps', 'investigate', 'killingsto', 'say', 'could', 'ruin', 'film', 'anyone', 'seen', 'suffice', 'say', 'enough', 'red', 'herrings', 'plausible', 'keep', 'mysterythriller', 'fans', 'happy', 'story', 'driven', 'giallothe', 'shame', 'dvd', 'superb', 'transfer', 'english', 'italian', 'soundtrack', 'also', 'catchy', 'score', 'good', 'measure', 'bruno', 'nicolai', 'stay', 'head', 'whileall', 'first', 'rate', 'giallo']"
        ]
       ],
       "shape": {
        "columns": 1,
        "rows": 100
       }
      },
      "text/plain": [
       "0     [viewed, first, two, nights, coming, imdb, loo...\n",
       "1     [said, several, times, least, watching, eric, ...\n",
       "2     [without, doubt, worse, comicbook, movie, ever...\n",
       "3     [firstly, would, like, point, people, criticis...\n",
       "4     [compact, crime, drama, good, amount, action, ...\n",
       "                            ...                        \n",
       "95    [wasnt, saw, sidney, pollack, picture, ever, c...\n",
       "96    [daniel, auteuil, queen, margot, much, better,...\n",
       "97    [got, movie, ebay, mainly, im, gay, love, til,...\n",
       "98    [preposterous, sequel, stretches, credibility,...\n",
       "99    [bugs, bunny, accidentally, ends, south, pole,...\n",
       "Name: review, Length: 100, dtype: object"
      ]
     },
     "execution_count": 159,
     "metadata": {},
     "output_type": "execute_result"
    }
   ],
   "source": [
    "\n",
    "\n",
    "dataset.iloc[:,0].apply(remove_stopwords)\n"
   ]
  },
  {
   "cell_type": "code",
   "execution_count": 223,
   "id": "3770f4ac",
   "metadata": {},
   "outputs": [],
   "source": [
    "from sklearn.feature_extraction.text import CountVectorizer\n",
    "\n",
    "transformer=CountVectorizer(analyzer=remove_stopwords,max_features=500).fit(dataset['review'])\n",
    "\n",
    "vectorised=transformer.transform(dataset['review'])"
   ]
  },
  {
   "cell_type": "code",
   "execution_count": 224,
   "id": "7c97a470",
   "metadata": {},
   "outputs": [
    {
     "name": "stdout",
     "output_type": "stream",
     "text": [
      "  (0, 0)\t1\n",
      "  (0, 8)\t1\n",
      "  (0, 34)\t2\n",
      "  (0, 44)\t1\n",
      "  (0, 46)\t2\n",
      "  (0, 65)\t1\n",
      "  (0, 75)\t1\n",
      "  (0, 129)\t1\n",
      "  (0, 148)\t1\n",
      "  (0, 154)\t2\n",
      "  (0, 158)\t1\n",
      "  (0, 168)\t1\n",
      "  (0, 177)\t1\n",
      "  (0, 178)\t1\n",
      "  (0, 180)\t1\n",
      "  (0, 187)\t1\n",
      "  (0, 231)\t1\n",
      "  (0, 239)\t1\n",
      "  (0, 249)\t2\n",
      "  (0, 252)\t1\n",
      "  (0, 255)\t1\n",
      "  (0, 277)\t1\n",
      "  (0, 295)\t1\n",
      "  (0, 300)\t1\n",
      "  (0, 305)\t2\n",
      "  :\t:\n",
      "  (99, 2)\t1\n",
      "  (99, 47)\t1\n",
      "  (99, 51)\t1\n",
      "  (99, 56)\t3\n",
      "  (99, 59)\t1\n",
      "  (99, 119)\t1\n",
      "  (99, 121)\t1\n",
      "  (99, 124)\t2\n",
      "  (99, 126)\t1\n",
      "  (99, 179)\t1\n",
      "  (99, 181)\t1\n",
      "  (99, 199)\t1\n",
      "  (99, 207)\t1\n",
      "  (99, 219)\t1\n",
      "  (99, 246)\t1\n",
      "  (99, 255)\t1\n",
      "  (99, 287)\t1\n",
      "  (99, 295)\t1\n",
      "  (99, 339)\t1\n",
      "  (99, 342)\t1\n",
      "  (99, 369)\t1\n",
      "  (99, 374)\t1\n",
      "  (99, 384)\t1\n",
      "  (99, 440)\t2\n",
      "  (99, 444)\t1\n"
     ]
    }
   ],
   "source": [
    "print(vectorised)"
   ]
  },
  {
   "cell_type": "code",
   "execution_count": 225,
   "id": "e18bc509",
   "metadata": {},
   "outputs": [
    {
     "name": "stdout",
     "output_type": "stream",
     "text": [
      "[[1 0 0 ... 0 0 0]\n",
      " [0 0 0 ... 0 0 0]\n",
      " [0 0 0 ... 0 0 0]\n",
      " ...\n",
      " [0 0 0 ... 0 0 0]\n",
      " [0 0 0 ... 0 0 0]\n",
      " [1 0 1 ... 0 0 0]]\n"
     ]
    }
   ],
   "source": [
    "X=vectorised.toarray()\n",
    "\n",
    "print(X)"
   ]
  },
  {
   "cell_type": "code",
   "execution_count": 226,
   "id": "618f9ca0",
   "metadata": {},
   "outputs": [
    {
     "name": "stdout",
     "output_type": "stream",
     "text": [
      "(100, 500)\n"
     ]
    }
   ],
   "source": [
    "# X=vectorised\n",
    "dataset['label'] = dataset['sentiment'].map({'positive': 1, 'negative': 0})\n",
    "y=dataset['label']\n",
    "print(X.shape)\n"
   ]
  },
  {
   "cell_type": "code",
   "execution_count": 227,
   "id": "fcbbfda8",
   "metadata": {},
   "outputs": [],
   "source": [
    "from sklearn.model_selection import train_test_split\n",
    "\n",
    "X_train, X_test, y_train, y_test = train_test_split(X, y,stratify=y, test_size=0.2, random_state=42)"
   ]
  },
  {
   "cell_type": "code",
   "execution_count": 228,
   "id": "56a5586f",
   "metadata": {},
   "outputs": [
    {
     "name": "stdout",
     "output_type": "stream",
     "text": [
      "Test Accuracy: 0.6500\n"
     ]
    }
   ],
   "source": [
    "from sklearn.naive_bayes import MultinomialNB\n",
    "from sklearn.metrics import accuracy_score\n",
    "\n",
    "model = MultinomialNB()\n",
    "model.fit(X_train, y_train)\n",
    "\n",
    "# Predict on test set\n",
    "y_pred = model.predict(X_test)\n",
    "\n",
    "# Accuracy\n",
    "accuracy = accuracy_score(y_test, y_pred)\n",
    "print(f\"Test Accuracy: {accuracy:.4f}\")"
   ]
  },
  {
   "cell_type": "code",
   "execution_count": 229,
   "id": "fe3c2632",
   "metadata": {},
   "outputs": [],
   "source": [
    "def predict_review_sentiment(model, vectorizer, review):\n",
    "    review_vector = vectorizer.transform([review])\n",
    "    prediction = model.predict(review_vector)[0]\n",
    "    return prediction"
   ]
  },
  {
   "cell_type": "code",
   "execution_count": 230,
   "id": "b000e745",
   "metadata": {},
   "outputs": [
    {
     "name": "stdout",
     "output_type": "stream",
     "text": [
      "An absolutely stunning movie with a powerful message!\n",
      "Predicted Sentiment: negative\n",
      "Absolutely amazing work, good movie.\n",
      "Predicted Sentiment: positive\n",
      "Worst movie ever, not recommended\n",
      "Predicted Sentiment: negative\n",
      "good movie , thriller and intersting to watch with friends.\n",
      "Predicted Sentiment: positive\n"
     ]
    }
   ],
   "source": [
    "review_texts = [\"An absolutely stunning movie with a powerful message!\",\"Absolutely amazing work, good movie.\", \"Worst movie ever, not recommended\", \"good movie , thriller and intersting to watch with friends.\" ]\n",
    "\n",
    "for review in review_texts:\n",
    "    predicted=predict_review_sentiment(model, transformer, review)\n",
    "    print(review)\n",
    "\n",
    "    if predicted==1:\n",
    "        print(\"Predicted Sentiment: positive\")\n",
    "\n",
    "    else:\n",
    "        print(\"Predicted Sentiment: negative\")\n",
    "\n",
    "       \n",
    "\n",
    "\n",
    "\n"
   ]
  },
  {
   "cell_type": "markdown",
   "id": "8ed64d3f",
   "metadata": {},
   "source": [
    "Here when i am using max_features =500 the test accuracy is 0.65 whereas when there is no limit on max features, the accuracy becomes 0.55.\n"
   ]
  }
 ],
 "metadata": {
  "kernelspec": {
   "display_name": "Python 3 (ipykernel)",
   "language": "python",
   "name": "python3"
  },
  "language_info": {
   "codemirror_mode": {
    "name": "ipython",
    "version": 3
   },
   "file_extension": ".py",
   "mimetype": "text/x-python",
   "name": "python",
   "nbconvert_exporter": "python",
   "pygments_lexer": "ipython3",
   "version": "3.10.12"
  }
 },
 "nbformat": 4,
 "nbformat_minor": 5
}
