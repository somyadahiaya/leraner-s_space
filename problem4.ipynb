{
 "cells": [
  {
   "cell_type": "code",
   "execution_count": 1,
   "id": "f2f8f69c",
   "metadata": {},
   "outputs": [],
   "source": [
    "import csv\n",
    "import pandas as pd\n",
    "import numpy as np\n"
   ]
  },
  {
   "cell_type": "markdown",
   "id": "5a93b11c",
   "metadata": {},
   "source": [
    "Extracting dataset for training"
   ]
  },
  {
   "cell_type": "code",
   "execution_count": 2,
   "id": "4378a4e7",
   "metadata": {},
   "outputs": [],
   "source": [
    "df=pd.read_csv('IMDB Dataset.csv')"
   ]
  },
  {
   "cell_type": "code",
   "execution_count": 3,
   "id": "bc7f7ada",
   "metadata": {},
   "outputs": [],
   "source": [
    "\n",
    "positive_samples = df[df['sentiment'] == 'positive'].sample(n=50, random_state=42)\n",
    "negative_samples = df[df['sentiment'] == 'negative'].sample(n=50, random_state=42)\n",
    "dataset = pd.concat([positive_samples, negative_samples])\n",
    "\n",
    "dataset = dataset.sample(frac=1, random_state=42).reset_index(drop=True)\n",
    "dataset.to_csv('reviews_100.csv', index=False)\n"
   ]
  },
  {
   "cell_type": "code",
   "execution_count": 4,
   "id": "9dac413b",
   "metadata": {},
   "outputs": [
    {
     "name": "stdout",
     "output_type": "stream",
     "text": [
      "negative    50\n",
      "positive    50\n",
      "Name: sentiment, dtype: int64\n"
     ]
    }
   ],
   "source": [
    "print(dataset['sentiment'].value_counts())"
   ]
  },
  {
   "cell_type": "markdown",
   "id": "56f24d63",
   "metadata": {},
   "source": [
    "Stopwords removal and tokenization\n"
   ]
  },
  {
   "cell_type": "code",
   "execution_count": 13,
   "id": "e9c0493c",
   "metadata": {},
   "outputs": [
    {
     "name": "stderr",
     "output_type": "stream",
     "text": [
      "[nltk_data] Downloading package punkt to\n",
      "[nltk_data]     /home/somyadahiaya/nltk_data...\n",
      "[nltk_data]   Package punkt is already up-to-date!\n",
      "[nltk_data] Downloading package stopwords to\n",
      "[nltk_data]     /home/somyadahiaya/nltk_data...\n",
      "[nltk_data]   Package stopwords is already up-to-date!\n"
     ]
    },
    {
     "data": {
      "text/plain": [
       "True"
      ]
     },
     "execution_count": 13,
     "metadata": {},
     "output_type": "execute_result"
    }
   ],
   "source": [
    "import nltk\n",
    "from nltk.tokenize import word_tokenize\n",
    "from nltk.corpus import stopwords\n",
    "import re\n",
    "import string\n",
    "nltk.download('punkt')\n",
    "nltk.download('stopwords')"
   ]
  },
  {
   "cell_type": "code",
   "execution_count": null,
   "id": "b0ef165d",
   "metadata": {},
   "outputs": [
    {
     "name": "stdout",
     "output_type": "stream",
     "text": [
      "['example', 'text']\n"
     ]
    }
   ],
   "source": [
    "\n",
    "# dataset['joined_review'] = dataset['cleaned_review'].apply(lambda words: ' '.join(words))\n",
    "\n",
    "# vectorizer = CountVectorizer(max_features=500, stop_words='english')\n",
    "# X = vectorizer.fit_transform(dataset['joined_review'])  # Features\n",
    "# y = dataset['sentiment']  # Labels\n",
    "\n",
    "\n",
    "\n",
    "\n",
    "\n",
    "\n",
    "stop_words = set(stopwords.words('english'))\n",
    "\n",
    "def remove_stopwords(text):\n",
    "    text =re.sub(r'<[^>]+>', '', text)\n",
    "    remove_punctuation=[char for char in text if char not in string.punctuation]\n",
    "    remove_punctuation=''.join(remove_punctuation)\n",
    "    text= [word for word in remove_punctuation.split() if word.lower() not in stop_words]\n",
    "    return text\n",
    "\n",
    "# Test\n",
    "# print(remove_stopwords(\"This is an example <br> text<\\br>.\"))"
   ]
  },
  {
   "cell_type": "code",
   "execution_count": 54,
   "id": "4fd83168",
   "metadata": {},
   "outputs": [
    {
     "data": {
      "application/vnd.microsoft.datawrangler.viewer.v0+json": {
       "columns": [
        {
         "name": "index",
         "rawType": "int64",
         "type": "integer"
        },
        {
         "name": "review",
         "rawType": "object",
         "type": "string"
        }
       ],
       "ref": "d34ee7a0-3a9c-4e8a-bc3d-8dd7c6471971",
       "rows": [
        [
         "0",
         "['viewed', 'first', 'two', 'nights', 'coming', 'IMDb', 'looking', 'actor', 'info', 'saw', '9', 'rating', 'surprised', 'since', 'impressed', 'Id', 'seen', 'reference', 'happen', 'believe', 'Lonesome', 'Dove', 'best', 'TV', 'western', 'ever', 'grew', 'next', 'MGM', 'back', 'lots', 'Culver', 'City', '50s', 'certain', 'sense', 'reverence', 'Western', 'genre', 'saw', 'glowing', 'first', 'review', 'decided', 'read', 'found', 'several', 'reviews', '1', '2', 'stars', 'summed', 'feelings', 'well', 'lack', 'character', 'development', 'poor', 'editing', 'feeling', 'shot', 'Universal', 'back', 'lot', 'MGMs', 'long', 'gone', 'overall', 'impression', 'going', 'come', 'close', 'changing', 'feelings', 'LD', 'impression', 'overwhelming', 'vote', 'chose', 'write', 'less', '40This', 'got', 'wondering', 'process', 'yields', '9', 'rating', 'people', 'giving', '10s', '9s', 'take', 'time', 'justify', 'vote', 'ballot', 'box', 'stuffed', 'people', 'monetary', 'motivation', 'long', 'used', 'IMDb', 'one', 'tool', 'screen', 'movies', 'thought', 'best', 'available', 'sure']"
        ],
        [
         "1",
         "['said', 'several', 'times', 'least', 'watching', 'Eric', 'Rohmer', 'film', 'like', 'watching', 'paint', 'dry', 'seems', 'Monsieur', 'Rohmer', 'resents', 'doesnt', 'deny', 'could', 'resents', 'much', 'new', 'movie', 'may', 'also', 'last', 'Inch', 'Allah', 'set', 'far', 'back', 'time', 'like', 'watching', 'woad', 'dry', 'wonderful', 'people', 'gave', 'Nouvelle', 'Vague', 'Cahiers', 'du', 'Cinema', 'already', 'named', 'one', 'best', 'films', '2007', 'give', 'idea', 'Reality', 'high', 'Rohmers', 'agenda', '5th', 'Century', 'France', 'one', 'extreme', 'château', 'would', 'place', 'Loire', 'valley', 'whilst', 'dwelling', 'see', 'rude', 'wooden', 'hut', 'story', 'involves', 'nymphs', 'shepherds', 'often', 'Rohmer', 'cast', 'unknowns', 'happened', 'passing', 'overall', 'effect', 'annual', 'class', 'play', 'school', 'Special', 'Needs', 'pupils', 'captured', 'film', 'accident', 'One', 'almost', 'tempted', 'say', 'Come', 'back', 'Godard', 'forgiven', 'even', 'woeful', 'production', 'cant', 'make', 'utter', 'words']"
        ],
        [
         "2",
         "['Without', 'doubt', 'WORSE', 'comicbook', 'movie', 'every', 'made', 'PERIOD', 'Yes', 'worse', 'Dolph', 'Lundgrens', '1989', 'Punisher', 'Yup', 'worse', '1979', '1991', 'Captain', 'America', 'movies', 'Oh', 'yeah', 'even', 'WORSE', 'Christopher', 'Reed', 'scripted', 'Superman', 'IV', 'Quest', 'Peace', 'movie', 'Sheeshh', 'movie', 'bad', 'guy', 'played', 'Nuclear', 'Man', 'starred', 'one', 'film', 'TV', 'oPThis', 'movie', 'quality', 'chance', 'watch', 'SciFi', 'channel', 'back', '1997', 'heard', 'pretty', 'bad', 'nothing', 'else', 'night', 'figured', 'check', 'waste', 'hour', 'half', 'would', 'better', 'watching', 'reruns', 'Different', 'Strokes', 'Besides', 'lamest', 'special', 'effects', 'worse', 'acting', 'Ive', 'ever', 'seen', 'whole', 'script', 'awful', 'well', 'directed', 'Thankfully', 'NEW', 'Fantastic', 'Four', 'movie', 'done', 'hopefully', 'version', 'heroes', 'justice', 'hoping', 'New', 'SPAWN', 'movie', 'future', 'yet', 'materialize', 'rent', 'movie', 'happen', 'see', 'televised', 'cable', 'check', 'warned', 'though', 'youll', 'like', 'flipping', 'channel', 'first', '15', 'mins']"
        ],
        [
         "3",
         "['Firstly', 'would', 'like', 'point', 'people', 'criticised', 'film', 'made', 'glaring', 'errors', 'Anything', 'rating', '610', 'clearly', 'utter', 'nonsenseCreep', 'absolutely', 'fantastic', 'film', 'amazing', 'film', 'effects', 'actors', 'highly', 'believable', 'narrative', 'thought', 'provoking', 'horror', 'graphical', 'content', 'extremely', 'disturbing', 'much', 'mystique', 'film', 'Many', 'questions', 'arise', 'audience', 'revealed', 'strange', 'freakish', 'creature', 'makes', 'habitat', 'dark', 'rat', 'ridden', 'tunnels', 'Craig', 'created', 'happened', 'himA', 'fantastic', 'film', 'large', 'chill', 'factor', 'film', 'many', 'unanswered', 'questions', 'film', 'needs', 'appreciated', 'along', 'others', 'like', '28', 'Days', 'Later', 'Bunker', 'Dog', 'Soldiers', 'DeathwatchLook', 'forward', 'fantastic', 'films']"
        ],
        [
         "4",
         "['compact', 'crime', 'drama', 'good', 'amount', 'action', 'unique', 'NYC', 'location', 'shots', 'adds', 'tough', 'little', 'filmTechnically', 'well', 'done', 'good', 'direction', 'acting', 'Needless', 'saythe', 'wild', 'car', 'chase', 'seems', 'begin', 'downtown', 'extends', 'upper', 'west', 'side', 'Washington', 'Heights', 'across', 'George', 'Washington', 'Bridge', 'NJ', 'one', 'best', 'ever', 'filmAll', 'around', 'fine', 'flick', 'gets', 'better', 'time8', '10easy']"
        ],
        [
         "5",
         "['first', 'comment', 'IMDb', 'website', 'reason', 'Im', 'writing', 'talking', 'ONE', 'BEST', 'FILMS', 'EVER', 'Ne', 'goryuy', 'make', 'laugh', 'cry', 'time', 'fall', 'love', 'youre', 'fan', 'yet', 'Georgian', 'choir', 'singing', 'tradition', 'possibly', 'accept', 'hardships', 'existence', 'feel', 'good', 'watching', 'like', 'lot', 'film', 'actors', 'nonleading', 'roles', 'create', 'vivid', 'memorable', 'characters', 'interesting', 'important', 'central', 'character', 'film', 'starring', 'Vahtang', 'Kikabidze', 'great', 'remember', 'every', 'single', 'face', 'around', 'film', 'find', 'quoting', 'lines', 'become', 'household', 'names', 'many', 'Russianspeaking', 'people', 'film', 'live', 'Simple', 'yet', 'deep', 'want', 'watch']"
        ],
        [
         "6",
         "['theme', 'controversial', 'depiction', 'hypocritical', 'sexually', 'starved', 'india', 'excellentNothing', 'filmThere', 'lack', 'good', 'dialogueswhy', 'movie', 'english', 'lack', 'continuity', 'lack', 'passionemotion', 'acting']"
        ],
        [
         "7",
         "['hadnt', 'heard', 'Soap', 'Girl', 'saw', 'poster', 'five', 'star', 'review', 'Film', 'Threat', 'outside', 'theater', 'figured', 'bad', 'could', 'Well', 'soon', 'found', 'god', 'film', 'awful', 'wooden', 'acting', 'ever', 'seen', 'outside', 'porn', 'flick', 'Absolutely', 'agonizing', 'dialogue', 'cant', 'understand', 'made', 'anyone', 'agreed', 'part', 'find', 'completely', 'unfathomable', 'actually', 'shown', 'theater', 'money', 'charged', 'see', 'happen', 'importantly', 'GUY', 'FILM', 'THREAT', 'THINKING']"
        ],
        [
         "8",
         "['Enjoyable', 'film', 'gives', 'romance', 'womenontheverge', 'psychodrama', 'work', 'place', 'sexual', 'harassment', 'adultery', 'fashion', 'Typical', 'characters', 'found', 'corporate', 'America', 'Joan', 'Crawford', 'usual', 'long', 'time', 'employee', 'bitch', 'executive', 'feels', 'need', 'shes', 'big', 'boys', 'Hope', 'Lange', 'entry', 'level', 'ambitious', 'employee', 'whose', 'determined', 'get', 'top', 'using', 'mind', 'body', 'personal', 'lives', 'subplot', 'Wardrobe', 'film', 'great', 'someone', 'forgot', 'tell', 'Stephen', 'Boyds', 'hairstylist', 'little', 'dab', 'ya', 'amount', 'Brylcream', 'Stephen', 'Boyds', 'hair', 'distracting', 'times', 'characters', 'relationship', 'Langes', 'character', 'never', 'fully', 'developed', 'found', 'disappointing', 'Overall', 'movie', 'enjoyable', 'Rating', '810']"
        ],
        [
         "9",
         "['dont', 'know', 'film', 'meager', 'rating', 'IMDb', 'film', 'accompanied', 'Curious', 'Blue', 'masterworkThe', 'thing', 'let', 'film', 'dont', 'like', 'process', 'film', 'dont', 'like', 'psychology', 'expecting', 'hardcore', 'pornographic', 'rammingThis', 'isnt', 'film', 'want', 'watch', 'unwind', 'film', 'want', 'see', 'like', 'masterpiece', 'time', 'attention', 'careSUMMARIES', 'MAY', 'CONTAIN', 'SPOILER', 'TWOThe', 'main', 'thing', 'film', 'blends', 'whole', 'film', 'within', 'film', 'thing', 'way', 'sometimes', 'forget', 'fictions', 'arent', 'realThe', 'film', 'like', 'many', 'films', 'one1', 'political', 'documentary', 'social', 'system', 'Sweden', 'time', 'lot', 'ways', 'still', 'relevant', 'today', 'Interviews', 'done', 'young', 'woman', 'named', 'Lena2', 'narrative', 'filmmaker', 'Vilgot', 'Sjoman', 'making', 'film', 'deals', 'relationship', 'star', 'film', 'never', 'got', 'involved', 'people', 'hes', 'supposed', 'work', 'with3', 'film', 'Vilgot', 'making', 'young', 'woman', 'named', 'LenaIE', '2', 'young', 'politically', 'active', 'making', 'documentary', 'IE', '1', 'also', 'coming', 'age', 'sexuality', 'freedom', 'thatThe', 'magnificence', 'sheer', 'brilliance', 'Curious', 'YellowBlue', 'three', 'elements', 'cut', 'together', 'one', 'moment', 'watching', 'interview', 'politics', 'next', 'watching', 'interviewer', 'behind', 'scenes', 'well', 'sometimes', 'forget', 'narrativeAnother', 'thing', 'dynamic', 'Yellow', 'Blue', 'see', 'one', 'must', 'see', 'Blue', 'sequel', 'Ill', 'try', 'explain', 'best', 'knowledge', 'films', 'done', 'though', 'great', 'techniqueThink', 'Yellow', 'living', 'thing', 'actual', 'events', '14', 'scenes', 'complete', 'taleThink', 'Blue', 'things', '14', 'scenes', 'Yellow', 'didnt', 'see', 'complete', 'tale', 'ownEssentially', 'parallel', 'films', 'story', 'told', 'two', 'different', 'waysIt', 'wasnt', 'saw', 'first', '30', 'minutes', 'Blue', 'fully', 'understood', 'YellowI', 'hope', 'helpful', 'people', 'discouraged', 'various', 'influences', 'film', 'changed', 'way', 'looked', 'filmthanks', 'time']"
        ],
        [
         "10",
         "['recently', 'bought', 'movie', 'DVD', 'discount', 'store', '5', 'Although', 'nofrills', 'DVD', 'Geneon', 'label', 'movie', 'starts', 'playing', 'immediately', 'menu', 'special', 'features', 'picture', 'sound', 'quality', 'EXCELLENT', 'movie', 'based', 'true', 'story', 'one', 'biggest', 'bank', 'robberies', 'historyRichard', 'Jordan', 'must', 'admit', 'heard', 'plays', 'lead', 'Pinky', 'Green', 'charming', 'young', 'man', 'spent', 'much', 'years', 'prison', 'wanted', 'go', 'straight', 'allowed', 'portrays', 'American', 'England', 'David', 'Niven', 'plays', 'lead', 'bad', 'guy', 'also', 'great', 'charm', 'famous', 'Bad', 'scruples', 'refuses', 'deny', 'Pinky', 'whack', 'job', 'Whack', 'England', 'apparently', 'fair', 'share', 'take', 'bullet', 'head', 'American', 'gangster', 'films', 'supporting', 'cast', 'excellent', 'job', 'producing', 'believable', 'movieWhat', 'perhaps', 'best', 'whole', 'movie', 'quite', 'enjoyable', 'understandable', 'frequently', 'find', 'lost', 'plot', 'confusions', 'various', 'characters', 'without', 'special', 'effects', 'blood', 'violence', 'even', 'single', 'car', 'chase', 'well', 'written', 'story', 'well', 'acted', 'well', 'directed', 'well', 'photographed', 'complaints', 'movie', 'would', 'question', 'music', 'bluegrass', 'music', 'bank', 'heist', 'story', 'takes', 'place', 'England']"
        ],
        [
         "11",
         "['Du', 'Rififi', 'Chez', 'Les', 'HommesRififi1955', 'surface', 'described', 'French', 'variation', 'John', 'Hustons', 'seminal', 'heist', 'film', 'Asphalt', 'Jungle1950', 'difference', 'two', 'films', 'Rififi1955', 'pays', 'little', 'attention', 'detail', 'robbery', 'sequence', 'Also', 'police', 'arent', 'involved', 'aftermath', 'robbery', 'Rififi', 'much', 'Asphalt', 'Jungle', 'end', 'Rififi1955', 'opinion', 'slightly', 'better', 'film', 'Asphalt', 'Jungle1950', 'Remarkable', 'Noir', 'picture', 'defines', '1950s', 'French', 'CinemaSpartacus1960', 'may', 'one', 'broke', 'infamous', 'blacklist', 'opinion', 'Rififi1955', 'film', 'began', 'break', 'apart', 'unbreakable', 'Hollywood', 'blacklist', 'First', 'film', 'five', 'years', 'Jules', 'Dassin', 'victimized', 'McCarthy', 'communist', 'hunt', 'late', '40s', 'early', '50s', 'got', 'sort', 'retribution', 'Rififi1955', 'became', 'success', 'around', 'France', 'Europe', 'Thus', 'defying', 'poisonious', 'Hollywood', 'blacklist', 'major', 'way', 'probably', 'inspired', 'others', 'Rififi1955', 'important', 'film', 'Dassins', 'career', 'restored', 'name', 'also', 'gave', 'second', 'chance', 'making', 'filmsJules', 'Dassin', 'gave', 'filmworld', 'ever', 'growing', 'audiences', 'masterpiece', 'influential', 'proportions', 'handling', 'material', 'exceptional', 'direction', 'actors', 'flawless', 'Builds', 'tense', 'situations', 'precise', 'craftsmanship', 'Dassin', 'came', 'full', 'circle', 'Film', 'Noir', 'genre', 'directing', 'best', 'last', 'Noir', 'Rififi1955', 'Marked', 'end', 'Dassins', 'period', 'filmmaking', 'involved', 'Noir', 'picturesRififi1955', 'number', 'one', 'film', 'arsenal', 'thirty', 'plus', 'films', 'director', 'Jules', 'Dassin', 'masterpiece', 'acting', 'cinematography', 'directing', 'editing', 'writing', 'film', 'leave', 'seat', 'one', 'minute', 'always', 'something', 'memorable', 'going', 'brilliant', 'anything', 'Jean', 'Pierre', 'Melville', 'master', 'type', 'film', 'Masterpieces', 'Rififi1955', 'relatively', 'small', 'compared', 'probably', 'billions', 'films', 'made', 'motion', 'picture', 'historyThe', 'one', 'fascinating', 'aspect', 'Rififi', 'precise', 'planning', 'careful', 'execution', 'robbery', 'takes', 'bulk', '118', 'minute', 'duration', 'main', 'characters', 'plan', 'execute', 'jewel', 'heist', 'way', 'film', 'director', 'prepares', 'preproductions', 'production', 'postproduction', 'film', 'Shows', 'difficult', 'Jewel', 'heist', 'like', 'Rififi1955', 'committing', 'would', 'something', 'like', 'fact', 'scene', 'hardly', 'contains', 'mess', 'like', 'heist', 'films', 'turns', 'scene', 'something', 'even', 'greater', 'Close', 'one', 'get', 'perfect', 'sequence', 'motion', 'pictureLack', 'unnatural', 'sound', 'landmark', 'thrity', 'minute', 'heist', 'sequence', 'puts', 'realm', 'absolute', 'realism', 'dialogue', 'orand', 'music', 'would', 'ruin', 'suspense', 'tension', 'director', 'trying', 'create', 'use', 'natural', 'sound', 'makes', 'heist', 'sequence', 'rewarding', 'film', 'viewing', 'experience', 'Filmmakers', 'producers', 'would', 'use', 'dialogue', 'music', 'scene', 'like', 'lack', 'confidence', 'mainstream', 'filmgoers', 'patience', 'Sustains', 'level', 'consistency', 'never', 'lets', 'downMaintaining', 'high', 'level', 'suspense', 'makes', 'heist', 'sequence', 'tick', 'perfection', 'director', 'achieves', 'suspense', 'heist', 'sequence', 'thats', 'rarely', 'equaled', 'robbery', 'scenes', 'heist', 'films', 'Jean', 'Servais', 'rest', 'main', 'actors', 'contribute', 'suspense', 'low', 'key', 'acting', 'Getting', 'suspense', 'put', 'scene', 'task', 'capable', 'robbery', 'sequence', 'Rififi1955', 'reaches', 'Hitchcockian', 'level', 'suspense', 'tensionMany', 'filmmakers', 'years', 'following', 'Du', 'Rififi', 'Chez', 'Les', 'Hommes1955', 'influenced', 'inspired', 'One', 'filmmaker', 'influenced', 'Jean', 'Pierre', 'Melvilleoriginal', 'choice', 'director', 'Rififiwho', 'used', 'variations', 'heist', 'sequence', 'Le', 'Doulos1961', 'Le', 'Cercle', 'Rouge1970', 'Another', 'filmmaker', 'influenced', 'Stanley', 'Kubrick', 'made', 'similarly', 'themed', 'film', 'Killing1956', 'Also', 'Quentin', 'Tarantino', 'whose', 'debut', 'feature', 'Reservoir', 'Dogs1992', 'inspired', 'film', 'film', 'directors', 'influenced', 'John', 'Woo', 'Michael', 'Mann', 'Paul', 'Schrader', 'Ringo', 'Lam', 'etcDu', 'Rififi', 'Chez', 'Les', 'Hommes1955', 'comparable', 'Bob', 'le', 'Flambeur1955', 'many', 'ways', 'One', 'Jules', 'Dassin', 'Jean', 'Pierre', 'Melville', 'directed', 'groundbreaking', 'films', 'Rififi1955', 'Bob', 'le', 'Flambeur1955', 'Two', 'film', 'involves', 'aging', 'criminal', 'plans', 'carries', 'daring', 'heist', 'Three', 'Bob', 'le', 'Flambeur', 'Rififi', 'finishes', 'fatalistic', 'fashion', 'Four', 'film', 'shares', 'many', 'motifs', 'situations', 'classify', 'two', 'film', 'greatsPart', 'Rififis', 'charm', 'colorful', 'characters', 'surround', 'story', 'Tony', 'le', 'Stephanois', 'Jo', 'le', 'Suedois', 'Mario', 'Farrati', 'Cesar', 'le', 'Milanais', 'violence', 'implicit', 'yet', 'effectively', 'brutal', 'main', 'characters', 'led', 'Tony', 'le', 'Stephanois', 'abide', 'strong', 'outdated', 'code', 'honor', 'remindful', 'Sam', 'Peckinpah', 'John', 'Woo', 'Jean', 'Servais', 'becomes', 'role', 'Tony', 'le', 'Stephanois', 'cynical', 'outlook', 'tired', 'looks', 'Du', 'Rififi', 'Chez', 'Les', 'HommesRififi1955', 'became', 'favorite', 'mine', 'moment', 'saw', 'big', 'screen', 'beginning', 'end']"
        ],
        [
         "12",
         "['movie', 'truly', 'amazingover', 'years', 'acquired', 'taste', 'Japanese', 'Monster', 'movies', 'well', 'aware', 'early', 'examples', 'genre', 'poor', 'However', 'one', 'reaches', 'new', 'low', 'follows', 'adventures', 'Johnny', 'Sokko', 'young', 'boy', 'controls', 'Giant', 'Robot', 'fight', 'evil', 'Gargoyle', 'Gang', 'seem', 'endless', 'supply', 'horrid', 'giant', 'monsters', 'disposal']"
        ],
        [
         "13",
         "['MR', 'BASEBALL', 'film', 'paradoxes', 'Written', 'filmed', 'light', 'sports', 'comedy', 'truly', 'heartwarming', 'core', 'human', 'universal', 'Capras', 'finest', 'plot', 'level', 'paradox', 'baseball', 'fine', 'old', 'American', 'game', 'played', 'Japan', 'turned', 'around', 'American', 'values', 'cast', 'Japanese', 'values', 'imprinted', 'upon', 'game', 'superficial', 'sports', 'comedy', 'results', 'Jacks', 'uncomprehending', 'disbelief', 'basaboru', 'played', 'Japan', 'also', 'lead', 'character', 'whos', 'presented', 'overthehill', 'aging', 'baseball', 'star', 'actually', 'quite', 'immature', 'pro', 'ball', 'allowed', 'postpone', 'growing', 'lead', 'character', 'rudely', 'resistant', 'changes', 'life', 'forced', 'upon', 'refusing', 'accept', 'curveball', 'life', 'given', 'midst', 'new', 'country', 'new', 'manager', 'new', 'team', 'new', 'girlfriend', 'welcomed', 'try', 'accept', 'Sound', 'like', 'heavy', 'stuff', 'really', 'charming', 'clash', 'cultures', 'comedy', 'takes', 'place', 'national', 'sports', 'romantic', 'professional', 'levels', 'watch', 'sensitively', 'enough', 'also', 'find', 'great', 'story', 'man', 'abandon', 'immaturity', 'grow', 'way', 'late', 'life', 'causing', 'amount', 'personal', 'pain', 'finds', 'success', 'places', 'never', 'expected', 'love', 'story', 'also', 'great', 'respect', 'Sellecks', 'performance', 'bares', 'tush', 'literally', 'portray', 'ugly', 'American', 'insulting', 'people', 'throwing', 'tantrums', 'public', 'lets', 'us', 'inside', 'character', 'understand', 'dismay', 'also', 'doesnt', 'hurt', 'youre', 'big', 'fan', 'Takakura', 'Ken', 'like', 'MR', 'BASEBALL', 'surprising', 'loss', 'innocence', 'tale']"
        ],
        [
         "14",
         "['sporadically', 'engrossing', 'including', 'effectively', 'tender', 'moments', 'humorous', 'sledgehammerobvious', 'satire', 'Homecoming', 'hinges', 'comes', 'forced', 'ultimately', 'unfulfilling', 'material', 'like', 'timing', 'everything', 'Michael', 'Moore', 'knew', 'release', 'Fahrenheit', '911', '2004', 'elections', 'real', 'tragedy', 'Dantes', 'film', 'didnt', 'come', '2', 'years', 'ago', 'message', 'would', 'carried', 'energy', 'would', 'energized', 'dissidents', '2006', 'mockery', 'wellsettled', 'Bush', 'Administration', 'hardly', 'seems', 'controversially', 'compelling', 'imperiled', 'thenfrankly', 'anyone', 'could', 'convinced', 'anything', 'ham', 'fisted', 'zombie', 'flick', 'questionable', 'intelligence', 'didnt', 'notice', 'michael', 'moore', 'didnt', 'exactly', 'help', 'defeat', 'bushthere', 'nothing', 'engrossing', 'film', 'felt', 'disgust', 'blatant', 'frankly', 'stupid', 'film', 'painful', 'watch', 'going', 'something', 'like', 'need', 'bit', 'wit', 'sadly', 'none', 'poorly', 'done', 'satire', 'actually', 'opposite', 'intended', 'effect', 'say', 'friends', 'like', 'needs', 'enemies']"
        ],
        [
         "15",
         "['movie', 'made', '48', 'years', 'end', 'Civil', 'Warmost', 'likely', 'anticipation', '50th', 'anniversary', 'end', 'war', 'film', 'recreations', 'battles', 'people', 'era', 'look', 'rather', 'impressive', 'realistic', 'also', 'provides', 'different', 'balanced', 'view', 'contemporary', 'BIRTH', 'NATIONa', 'patently', 'absurd', 'racist', 'film', 'short', 'film', 'would', 'excellent', 'use', 'classroom', 'discuss', 'war', 'tell', 'story', 'young', 'man', 'runs', 'away', 'enlist', 'drummer', 'boy', 'makes', 'good', 'hero', 'though', 'film', 'ends', 'rather', 'melodramaticallya', 'definite', 'convention', 'day', 'great', 'film', 'decent', 'plot', 'decent', 'acting', 'little', 'overthetop', 'acting', 'often', 'saw', 'films', 'dayOne', 'annoying', 'aspect', 'film', 'frequent', 'use', 'title', 'cards', 'describe', 'set', 'stage', 'stuff', 'really', 'obvious', 'got', 'annoying', 'time', 'time']"
        ],
        [
         "16",
         "['say', 'theft', 'time', 'taken', 'see', 'movie', 'must', 'say', 'horrible', 'experience', 'Fay', 'Ann', 'Lee', 'terrible', 'actress', 'unconvincing', 'movie', 'Larryjoe76', 'obviously', 'shill', 'reviewer', 'plot', 'thin', 'say', 'least', 'Cantonese', 'dialog', 'funny', 'See', 'movie', 'perilDavid', 'Tang', 'Shanghai', 'Tang', 'movie', 'little', 'revenue', 'movie', 'generate', 'banal', 'plot', 'attempts', 'compete', 'romcoms', 'blends', 'scenery', 'like', 'watching', 'paint', 'dry', 'short', 'movie', 'total', 'waste', 'time', 'space', 'Ive', 'seen', 'better', 'movies', 'youtube']"
        ],
        [
         "17",
         "['End', 'Game', 'started', 'well', 'least', 'said', 'end', 'better', 'seemed', 'like', 'things', 'happening', 'keep', 'plot', 'going', 'example', 'reporter', 'first', 'inquisitive', 'intelligent', 'person', 'half', 'way', 'something', 'really', 'stupid', 'totally', 'character', 'given', 'reason', 'apart', 'next', 'scene', 'wouldnt', 'make', 'sense', 'without', 'whole', 'story', 'could', 'told', '30', 'minutes', 'would', 'made', 'average', 'TV', 'political', 'drama', 'brilliant', 'Cuba', 'Gooding', 'Jr', 'watchable', 'however', 'James', 'Woods', 'admirable', 'job', 'consideringThe', 'end', 'game', 'honestly', 'one', 'worst', 'films', 'Ive', 'ever', 'seenand', 'thats', 'saying', 'something', 'Ive', 'seen', 'Gigli']"
        ],
        [
         "18",
         "['Couch', 'Trip', 'one', 'silly', 'comedies', 'cranked', '80s', 'case', 'Dan', 'Aykroyd', 'plays', 'mental', 'patient', 'poses', 'psychiatrist', 'goes', 'Beverly', 'Hills', 'sub', 'Charles', 'Grodin', 'movies', 'humor', 'springs', 'satirical', 'look', 'Beverly', 'Hills', 'peoples', 'empty', 'lives', 'woman', 'power', 'struggle', 'maidIts', 'sort', 'movie', 'watch', 'good', 'time', 'Dont', 'expect', 'kind', 'religious', 'experience', 'youll', 'likely', 'laugh', 'lot', 'Beverly', 'Hills', 'people', 'flaunt', 'wealth', 'Also', 'starring', 'Walter', 'Matthau', 'Donna', 'Dixon', 'Arye', 'Gross', 'Victoria', 'Jackson', 'UHF']"
        ],
        [
         "19",
         "['one', 'favourite', 'movies', 'EVER', 'seen', 'million', 'times', 'would', 'never', 'turn', 'opportunity', 'watch', 'fact', 'love', 'much', 'REALLY', 'wanted', 'check', 'resort', 'filmed', 'upcoming', 'vacation', 'anyone', 'know', 'name', 'please', 'email', 'watched', 'movie', 'first', 'time', 'first', 'released', 'Nikkis', 'age', 'longest', 'time', 'bugged', 'dad', 'take', 'away', 'somewhere', 'course', 'expected', 'thing', 'happen', 'amazing', 'setting', 'cute', 'puppylove', 'story', 'definite', 'DVD', 'collectors', 'must']"
        ],
        [
         "20",
         "['ambiguity', 'Michael', 'Myers', 'withered', 'away', 'thanks', 'series', 'chronic', 'habit', 'arseholing', 'continuity', 'pulling', 'relatives', 'nowhere', 'entry', 'introduces', 'potty', 'angle', 'hes', 'psycho', 'killer', 'actually', 'controlled', 'runes', 'appear', 'star', 'constellation', 'every', 'Halloween', 'cult', 'using', 'erm', 'well', 'film', 'far', 'coherent', 'lost', 'track', 'plot', 'movie', 'hemorrhages', 'credibility', 'profusely', 'doesnt', 'drop', 'left', 'end', 'Michael', 'put', 'one', 'victims', 'clothes', 'washing', 'machine', 'otherwise', 'empty', 'corridor', 'deadly', 'spike', 'sticking', 'wall', 'getting', 'electrocuted', 'really', 'make', 'head', 'explode', 'left', 'Donald', 'Pleasence', 'penultimate', 'film', 'role', 'produce', 'wonderful', 'little', 'moments', 'pile', 'dreadful', 'dialogue', 'hes', 'given']"
        ],
        [
         "21",
         "['biggest', 'mystery', 'Veronica', 'Mars', 'one', 'tackle', 'screenRather', 'mystery', 'perennial', 'ratings', 'disappointment', 'still', 'air', 'week', 'marked', 'nadir', 'Veronica', 'Mars', 'ranked', '146', '146', 'shows', 'big', '6', 'soon', 'Big', '5', 'Yes', 'read', 'right', 'Veronica', 'Mars', 'beaten', 'every', 'show', 'nowdefunct', 'WB', 'every', 'show', 'UPN', 'beat', 'shows', 'Fox', 'course', 'shows', 'ABC', 'CBS', 'NBCNow', 'hip', 'hypesters', 'going', 'say', 'rerun', 'everything', 'TV', 'week', 'pretty', 'much', 'rerun', 'boggles', 'mind', 'CW', 'would', 'choose', 'proved', 'ratings', 'disappointment', 'one', 'shows', 'saved', 'UPNClearly', 'something', 'going', 'behind', 'scenes', 'Favors', 'exchanged', 'influence', 'peddledSorry', 'cynical', 'explanation', 'Veronica', 'Mars', 'potential', 'line', 'clearly', 'dead', 'two', 'years', 'establish', 'failed', 'soMaybe', 'Joel', 'Silvers', 'influence', 'clout', 'frankly', 'loss', 'anyone', 'would', 'choose', 'spend', 'clout', 'bad', 'show', 'audience', 'watchingA', 'great', 'mystery', 'inauspicious', 'debut', 'CW']"
        ],
        [
         "22",
         "['many', 'many', 'years', 'gaijin', 'visited', 'japan', 'learning', 'martial', 'arts', 'instead', 'acquiring', 'knowledge', 'gainjin', 'told', 'nihonjin', 'could', 'achieve', 'excelent', 'performance', 'required', 'show', 'techniques', 'public', 'performance', 'moviethis', 'one', 'special', 'movie', 'made', 'sho', 'kosugi', 'shows', 'techniques', 'skills', 'also', 'teaches', 'many', 'many', 'lessons', 'achieve', 'one', 'verify', 'seeing', 'LUCINDA', 'DICKEY', 'performing', 'fantastic', 'unforgettable', 'acting', 'skills', 'NINJUTSUI', 'strongly', 'recommend', 'watching', 'movie', 'thrice', 'three', 'times', 'enough', 'seek', 'hints', 'tips', 'given', 'easily', 'sho', 'kosugi', 'really', 'seek', 'knowledge', 'gnosis']"
        ],
        [
         "23",
         "['arrival', 'White', 'Men', 'Arctic', 'Canada', 'challenges', 'freedom', 'fearless', 'ESKIMO', 'hunterW', 'Van', 'Dyke', 'MGMs', 'peripatetic', 'director', 'responsible', 'fascinating', 'look', 'life', 'Arctic', 'among', 'Inuit', 'production', 'location', 'filming', 'April', '1932', 'November', '1933', 'although', 'annoying', 'rear', 'projection', 'effects', 'show', 'shooting', 'took', 'place', 'back', 'Studio', 'considered', 'documentary', 'time', 'would', 'likely', 'term', 'docudrama', 'scripted', 'intriguing', 'plot', 'storylineThe', 'film', 'shows', 'daily', 'life', 'Eskimo', 'Winter', 'Summer', 'fact', 'starts', 'warmer', 'time', 'year', 'without', 'snow', 'ice', 'sight', 'constant', 'striving', 'food', 'depicted', 'viewer', 'gets', 'watch', 'exciting', 'hunts', 'walrus', 'polar', 'bear', 'whale', 'caribou', 'native', 'language', 'used', 'throughout', 'use', 'title', 'cards', 'English', 'spoken', 'fishermen', 'Mounties', 'encountered', 'Eskimo', 'fact', 'arrival', 'White', 'Men', 'good', 'bad', 'change', 'make', 'Eskimo', 'society', 'major', 'element', 'narrativeThis', 'PreCode', 'film', 'deals', 'refreshingly', 'frank', 'manner', 'Eskimo', 'moral', 'code', 'particularly', 'practice', 'wifesharing', 'important', 'completely', 'innocent', 'part', 'culture', 'fact', 'entire', 'film', 'appreciated', 'valuable', 'look', 'way', 'life', 'rapidly', 'disappearing', 'even', 'early', '1930sNone', 'cast', 'receives', 'screen', 'credit', 'shame', 'notable', 'performances', 'Foremost', 'among', 'Ray', 'Wise', 'playing', 'leading', 'role', 'Mala', 'Eskimo', 'Wise', '19061952', 'Alaskan', 'Native', 'Inuit', 'ancestry', 'absolutely', 'splendid', 'perfectly', 'believable', 'demanding', 'part', 'handsome', 'Hollywood', 'star', 'would', 'continue', 'acting', 'using', 'name', 'Ray', 'Mala', 'sporadic', 'film', 'career', 'often', 'tiny', 'unbilled', 'rolesLovely', 'JapaneseHawaiian', 'actress', 'Lotus', 'Long', 'plays', 'Malas', 'loyal', 'second', 'wife', 'names', 'fine', 'actresses', 'playing', 'two', 'wives', 'obscure', 'Director', 'Woody', 'Van', 'Dyke', 'steps', 'front', 'cameras', 'strict', 'North', 'West', 'Mounted', 'Police', 'inspector', 'two', 'decenthearted', 'Mounties', 'must', 'deliver', 'Mala', 'Canadian', 'justice', 'played', 'Joe', 'Sawyer', 'Edgar', 'Dearing', 'longtime', 'movie', 'character', 'actors', 'Danish', 'author', 'Peter', 'Freuchen', 'upon', 'whose', 'books', 'film', 'based', 'short', 'vivid', 'role', 'evil', 'woodenlegged', 'sea', 'captain', 'unwisely', 'rouses', 'Malas', 'icy', 'wrath']"
        ],
        [
         "24",
         "['Unfortunately', 'showing', 'Star', 'Movies', 'Thailand', 'last', 'week', 'complete', 'rubbish', 'acting', 'another', 'member', 'said', 'movie', 'good', 'example', 'act', 'havent', 'seen', 'movie', 'poorly', 'acted', 'long', 'time', 'actors', 'call', 'actors', 'completely', 'flat', 'deliver', 'lines', 'passion', 'dead', 'dog', 'would', 'say', 'order', 'truly', 'understand', 'bad', 'acting', 'would', 'see', 'movie', 'would', 'akin', 'tortureI', 'cringe', 'leading', 'lady', 'delivers', 'lines', 'rest', 'cast', 'accents', 'fake', 'contrived', 'equally', 'heinous', 'Another', 'actress', 'fake', 'British', 'accent', 'pretty', 'yes', 'good', 'lord', 'accent', 'terrible', 'Mix', 'lack', 'acting', 'disaster', 'said', 'nothing', 'could', 'accepted', 'pretty', 'girl', 'Oh', 'got', 'scene', 'leading', 'ladys', 'lover', 'says', 'Really', 'forced', 'crying', 'scene', 'Laughable', 'really', 'laughed', 'loudThe', 'sets', 'art', 'directors', 'offer', 'saving', 'grace', 'film', 'sets', 'colorful', 'scenes', 'rather', 'nice', 'minus', 'actorsThe', 'old', 'magic', 'potion', 'lady', 'Another', 'member', 'mentioned', 'modern', 'love', 'song', 'movie', 'Totally', 'inappropriate', 'period', 'piece', 'set', '500', 'years', 'agoI', 'understand', 'movie', 'considered', 'Big', 'Budget', 'Thailand', 'time', 'production', 'would', 'seriously', 'upset', 'producer', 'movie', 'goes', 'show', 'money', 'necessarily', 'make', 'good', 'even', 'mediocre', 'filmI', 'would', 'give', 'King', 'Maker', '1', '10', 'costumes', 'sets', 'make', 'save', 'film', 'rating', '2', '10']"
        ],
        [
         "25",
         "['underrated', 'movie', 'say', 'least', 'pointed', 'previous', 'posts', 'movie', 'somewhat', 'loose', 'highly', 'implausible', 'script', 'find', 'saying', 'cares', 'shooting', 'milk', 'insert', 'beverage', 'choice', 'nose', 'indeed', 'due', 'rare', 'mix', 'actors', 'sync', 'Kelsey', 'Grammar', 'obviously', 'gifted', 'actor', 'reference', 'Frasier', 'movie', 'supporting', 'actorsactress', 'play', 'roles', 'quite', 'well', 'found', 'interesting', 'threw', 'part', 'Duane', 'Martin', 'blowing', 'shot', 'big', 'game', 'Navys', 'basketball', 'team', 'basketball', 'fan', 'youll', 'remember', 'Martin', 'White', 'Men', 'Cant', 'Jump', 'Rim', 'youll', 'know', 'Martin', 'short', 'stint', 'NBA', 'Knicks', 'Nice', 'threw', 'believable', 'character', 'attributes', 'Rob', 'Schneiders', 'analretentive', 'character', 'perfect', 'offset', 'Grammars', 'calm', 'demeanor', 'Lauren', 'Holly', 'played', 'gutsysexpotwithabrain', 'well', 'enough', 'make', 'want', 'succeed', 'movie', 'make', 'laugh', 'even', 'youve', 'seen', 'many', 'times', 'beforethe', 'comic', 'bits', 'movie', 'definitely', 'last', 'still', 'find', 'laughing', '12', 'years', 'laterIs', 'one', 'chickens', 'Uhhhno', 'parrotfrom', 'Caribbean', 'Well', 'dont', 'let', 'fly', 'awaythats', 'supper', 'Arrrrrarr']"
        ],
        [
         "26",
         "['favorite', 'movie', 'time', 'love', 'trouble', 'teams', 'get', 'great', 'Michael', 'J', 'Fox', 'looked', 'young', 'guess', 'wasThe', 'teams', 'stereotypical', 'laugh']"
        ],
        [
         "27",
         "['may', 'worst', 'movie', 'Peter', 'Sellers', 'ever', 'think', 'laurel', 'goes', 'Prisoner', 'Zenda', 'surely', 'depressing', 'Sellers', 'especially', 'sans', 'makeup', 'Nayland', 'Smith', 'looks', 'like', 'undergone', 'chemotherapy', 'Fu', 'Manchu', 'looks', 'hardly', 'better', 'spends', 'film', 'exception', 'strangely', 'disturbing', 'scenes', 'gets', 'jolted', 'electrical', 'currents', 'verge', 'collapsing', 'weight', 'makeup', 'supporting', 'players', 'also', 'look', 'tired', 'run', 'Sid', 'Caesers', 'presence', 'offensive', 'even', 'without', 'constant', 'references', 'Chinks', 'One', 'bright', 'spot', 'would', 'one', 'last', 'times', 'major', 'motion', 'picture', 'would', 'portray', 'Asians', 'insultingly', 'matter', 'star', 'nonAsian', 'one', 'film', 'seems', 'surprisingly', 'cheap', 'soupy', 'photography', 'drab', 'sets', 'even', 'whizbang', 'Elvis', 'number', 'end', 'looks', 'cutrate', 'stunning', 'Helen', 'Mirren', 'tall', 'thin', 'nervous', 'guy', 'get', 'pants', 'wet', 'add', 'sparks', 'life', 'sad', 'affair', 'film', 'provides', 'eerie', 'premonition', 'great', 'comics', 'death', 'even', 'eerier', 'documentation', 'dying']"
        ],
        [
         "28",
         "['enjoy', 'riddles', 'suspense', 'enjoy', 'movie', 'Truth', 'told', 'mostly', 'Adrian', 'Paul', 'part', 'got', 'pick', 'knew', 'almost', 'nothing', 'movie', 'beforehand', 'Plot', 'Sarah', 'Carly', 'Pope', 'student', 'philosophy', 'metaphysics', 'starts', 'playing', 'mysterious', 'riddle', 'game', 'trying', 'figure', 'reason', 'gets', 'involved', 'game', 'solving', 'riddles', 'Vern', 'Adrian', 'Paul', 'shop', 'owner', 'also', 'riddle', 'fanatic', 'also', 'gets', 'entangled', 'game', 'Myth', 'solve', 'game', 'meaning', 'existence', 'referred', 'Design', 'revealed', 'Brendan', 'Fehrs', 'character', 'village', 'idiot', 'type', 'hanging', 'around', 'shop', 'turns', 'seems', 'thought', 'movie', 'pretty', 'well', 'done', 'definitely', 'original', 'concept', 'rare', 'find', 'days', 'personally', 'happen', 'like', 'riddles', 'puns', 'werent', 'difficult', 'still', 'fun', 'movie', 'Well', 'worth', 'rental', 'havent', 'seen', 'get']"
        ],
        [
         "29",
         "['bought', 'VHS', 'film', 'two', 'bucks', 'waste', 'money', 'Hey', 'dig', 'Adam', 'Batman', 'West', 'Tina', 'Giligans', 'Island', 'Louise', 'hello', 'third', 'rate', 'production', 'rehash', 'dozen', 'biker', 'films', 'crazed', 'bunch', 'bikers', 'psychos', 'ride', 'hick', 'town', 'beat', 'everybody', 'everything', 'defeated', 'man', 'dashing', 'hero', 'Adam', 'West', 'looks', 'part', 'hero', 'hes', 'missing', 'cape', 'Batman', 'uniform', 'Sorry', 'isnt', 'Tina', 'L', 'looks', 'really', 'nervous', 'frightened', 'whole', 'show', 'least', 'know', 'happened', 'Ginger', 'rescued', 'islandLOL', 'bikers', 'motley', 'group', 'known', 'ever', 'acted', 'least', 'shouldnt', 'Hell', 'Riders', 'Hell', 'Watch']"
        ],
        [
         "30",
         "['say', 'short', 'little', 'film', 'filled', 'secondary', 'actors', 'stars', 'absolutely', 'bad', 'performances', 'one', 'poorly', 'delivered', 'line', 'dialog', 'cold', 'violence', 'one', 'hand', 'balanced', 'warm', 'heart', 'protagonists', 'story', 'jewel', 'diamond', 'little', 'valuable', 'gem', 'western', 'evokes', 'spirit', 'legend', 'American', 'West', 'West', 'settled', 'grand', 'heroes', 'like', 'Hickock', 'Cody', 'Masterson', 'Earp', 'spread', 'everyday', 'man', 'woman', 'farmers', 'ranch', 'hands', 'merchants', 'miners', 'lumbermen', 'whores', 'barkeeps', 'entertainers', 'day', 'looking', 'riches', 'peace', 'quiet', 'religious', 'freedom', 'perhaps', 'spiritual', 'story', 'though', 'promoting', 'particular', 'religion', 'even', 'nonMormon', 'cowboys', 'portrayed', 'Ben', 'Johnson', 'Harry', 'Carey', 'Jr', 'act', 'kind', 'noble', 'ways', 'toward', 'everybody', 'story', 'regardless', 'religious', 'affiliation', 'beliefs', 'go', 'way', 'promote', 'tolerance', 'charity', 'wagon', 'train', 'comes', 'upon', 'stranded', 'medicine', 'show', 'people', 'true', 'biblical', 'fashion', 'like', 'David', 'Goliath', 'Samson', 'Philistines', 'guardian', 'angels', 'sent', 'wagon', 'train', 'eventually', 'go', 'head', 'head', 'evil', 'incarnate', 'Clegg', 'clan', 'likening', 'serpent', 'Garden', 'Eden', 'regretting', 'afterward', 'sweet', 'folkloric', 'tale', 'West', 'hits', 'every', 'target', 'John', 'Ford', 'takes', 'aim', 'atNowadays', 'western', 'Santa', 'Claus', 'whose', 'red', 'outfit', 'covered', 'denim', 'drover', 'coat', 'whose', 'red', 'stocking', 'cap', 'replaced', 'brown', 'Stetson', 'carries', 'burlap', 'bag', 'presents', 'coil', 'rope', 'Santa', 'added', 'Winchester', 'rifle', 'sling', 'put', 'one', 'shoulders', 'Colt', 'revolver', 'tuck', 'waistband', 'people', 'office', 'ask', 'Santa', 'carry', 'guns', 'simply', 'reply', 'Snakes', 'isnt', 'spirit', 'Christmas', 'season', 'one', 'everybody', 'get', 'deserve', 'Fifty', 'five', 'years', 'later', 'especially', 'post911', 'philosophies', 'attributes', 'demonstrated', 'characters', 'story', 'movie', 'still', 'relevant', 'today', 'back']"
        ],
        [
         "31",
         "['barely', 'remember', 'show', 'little', 'remembered', 'great', 'eldest', 'brother', 'reminded', 'show', 'recently', 'seen', 'advertisement', 'DVD', 'set', 'coming', 'network', 'screwed', 'pulling', 'air', 'could', 'put', 'else', 'place', 'gone', 'least', '3', 'seasons', 'right', 'think', 'sometimes', 'network', 'executives', 'think', 'gods', 'entertainment', 'world', 'misguess', 'flat', 'miss', 'good', 'show', 'placement', 'time', 'time', 'Let', 'said', 'lot', 'flops', 'hits', 'one', 'poor', 'decisions', 'cut', 'lineup', 'Anyhow', 'getting', 'collection']"
        ],
        [
         "32",
         "['movies', 'basic', 'premise', 'everyone', 'world', 'know', 'person', 'gay', 'except', 'person', 'man', 'likes', 'show', 'tunes', 'good', 'taste', 'neat', 'appearance', 'MUST', 'homosexual', 'Yes', 'movie', 'funny', 'parts', 'basic', 'premise', 'homophobic', 'insulting', 'entire', 'movie', 'crumbles', 'something', 'quite', 'painful', 'sit', 'performances', 'particularly', 'Joan', 'Cusak', 'Kevin', 'Kline', 'good']"
        ],
        [
         "33",
         "['along', 'Hare', 'Tonic', 'ranks', 'one', 'best', 'Bugs', 'cartoons', 'indeed', 'one', 'best', 'Bugs', 'ever', 'comments', 'Bugs', 'cartoons', 'basic', 'meaning', 'guess', 'yet', 'fully', 'developed', 'actually', 'prefer', 'basic', 'version', 'mid40s', 'Chuck', 'Jones', 'best', 'version', 'actually', 'rabbitsized', 'far', 'amusing', 'eventual', 'longlegged', 'version', 'towered', 'Yosemite', 'Sam', 'Daffy', 'Duck', 'latterday', 'Bugs', 'came', 'suave', 'sophisticated', 'liking', 'Also', 'check', 'Hair', 'Raising', 'Hare', '1946', 'Rabbit', 'Punch', '1948', 'great', 'examples', 'classic', 'Bugs', 'classic', 'Chuck', 'Jones']"
        ],
        [
         "34",
         "['theres', 'old', 'security', 'guard', 'guy', 'dies', 'theres', 'KEVIN', 'worlds', 'biggest', 'wuss', 'Kevin', 'wants', 'impress', 'incredibly', 'insensitive', 'bratty', 'virginal', 'girlfriend', 'AMY', 'returns', 'work', 'random', 'house', 'finds', 'friends', 'sexually', 'confusing', 'redshorted', 'KYLE', 'truly', 'revolting', 'sluttish', 'DAPHNE', 'soon', 'joined', 'Daphnes', 'boyfriend', 'triggerhappy', 'sexcrazed', 'macho', 'lunkhead', 'NICK', 'theres', 'title', 'creatures', 'horrid', 'little', 'dogeared', 'puppets', 'kill', 'people', 'giving', 'hearts', 'desire', 'Kyles', 'hearts', 'desire', 'mate', 'creepy', 'yucky', 'woman', 'spandex', 'Nicks', 'hearts', 'desire', 'throw', 'grenades', 'grade', 'school', 'cafeteria', 'mean', 'nightclub', 'Kevins', 'hearts', 'desire', 'beat', 'skinny', 'thug', 'nunchucks', 'Amys', 'hearts', 'desire', 'disgusting', 'slut', 'Daphnes', 'already', 'disgusting', 'slut', 'doesnt', 'hearts', 'desire', 'Along', 'way', 'truly', 'hideous', 'band', 'sings', 'truly', 'odd', 'song', 'hobgoblins', 'randomly', 'go', 'back', 'came', 'blow', 'Citizen', 'Kane', 'cannot', 'hold', 'candle', 'true', 'masterpiece', 'American', 'cinema']"
        ],
        [
         "35",
         "['like', 'film', 'several', 'reasons', 'soft', 'spot', 'films', 'intricately', 'plotted', 'criminal', 'plots', 'like', 'TOPKAPI', 'also', 'enjoy', 'films', 'like', 'TOPKAPI', 'BIG', 'DEAL', 'MADONNA', 'STREET', 'spoof', 'genre', 'One', 'best', 'ones', 'DISORGANIZED', 'CRIMECorbin', 'Bernsen', 'met', 'four', 'cons', 'years', 'decides', 'useful', 'bank', 'robbery', 'planning', 'small', 'Montana', 'town', 'hasnt', 'given', 'details', 'crime', 'fellows', 'really', 'know', 'Shortly', 'sends', 'Bernsen', 'arrested', 'two', 'New', 'Jersey', 'policemen', 'Ed', 'ONeill', 'Daniel', 'Roebuck', 'escaped', 'warrant', 'bring', 'back', 'custody', 'four', 'cons', 'Fred', 'Gwynne', 'Lou', 'Diamond', 'Philips', 'Ruben', 'Blades', 'Russ', 'show', 'without', 'clue', 'except', 'Bernsen', 'planning', 'something', 'first', 'twenty', 'minutes', 'film', 'deal', 'four', 'cons', 'slowly', 'getting', 'used', 'Gwynne', 'Philips', 'managing', 'push', 'away', 'suspicions', 'figure', 'trust', 'time', 'see', 'Bernsen', 'patiently', 'waiting', 'right', 'moment', 'escape', 'ONeill', 'Roebuck', 'difficult', 'brightest', 'bulbs', 'ever', 'existed', 'result', 'two', 'sets', 'plots', 'keep', 'juxtaposing', 'throughout', 'film', 'four', 'cons', 'trying', 'figure', 'Bernsens', 'scheme', 'put', 'operation', 'Bernsen', 'trying', 'maintain', 'freedom', 'pursuers', 'regain', 'cabin', 'hopefully', 'find', 'gang', 'take', 'command', 'also', 'third', 'smaller', 'plot', 'involving', 'growing', 'annoyance', 'anger', 'local', 'Sheriff', 'Hoyt', 'Axton', 'idiots', 'New', 'Jersey', 'keep', 'getting', 'hairThere', 'many', 'delightful', 'moments', 'film', 'Axton', 'egged', 'ONeil', 'Roebuck', 'surrounding', 'house', 'town', 'Bernsen', 'supposed', 'hiding', 'inside', 'yelling', 'megaphone', 'Come', 'surrounded', 'scene', 'switch', 'huge', 'Montana', 'plain', 'Bernsen', 'struggling', 'stumbling', 'miles', 'police', 'think', 'moment', 'moments', 'misadventures', 'four', 'cons', 'fortunately', 'put', 'oldest', 'Gwynne', 'leadership', 'position', 'always', 'guarantee', 'anything', 'one', 'point', 'car', 'wont', 'start', 'thumb', 'ride', 'truck', 'Unfortunately', 'truck', 'carrying', 'manureThe', 'conclusion', 'gang', 'successfully', 'carrying', 'robbery', 'including', 'disabling', 'police', 'cars', 'critical', 'time', 'Philips', 'specialty', 'cars', 'also', 'gem', 'timing', 'suspense', 'comic', 'results', 'film', 'entertaining', 'certainly', 'worth', 'watching']"
        ],
        [
         "36",
         "['Yet', 'another', 'version', 'mother', 'gangster', 'flicksthe', 'Classic', 'Godfather', 'yet', 'another', 'case', 'overhype', 'due', 'media', 'circus', 'Sarkar', '13th', 'Hindi', 'film', 'Ram', 'Gopal', 'Varma', 'director', 'also', 'weakest', 'Underworld', 'trilogy', 'including', 'two', 'excellentSatya', 'Company', 'Charisma', 'magnetic', 'persona', 'two', 'Bachchans', 'playing', 'fatherson', 'duo', 'screen', 'first', 'time', 'definitely', 'treat', 'watch', 'strong', 'performances', 'perfect', 'chemistry', 'biggest', 'scoring', 'point', 'Varma', 'applauded', 'However', 'equation', 'duo', 'missing', 'characters', 'film', 'Reasonthe', 'characters', 'look', 'like', 'cardboard', 'caricatures', 'esp', 'villains', 'represent', 'typical', 'Bollywood', 'baddies', 'character', 'attracts', 'attention', 'elder', 'son', 'played', 'Kaykay', 'able', 'hold', 'due', 'halfbaked', 'characterization', 'Drama', 'conflict', 'brought', 'alive', 'excessive', 'use', 'Closeshots', 'brought', 'claustrophobic', 'effect', 'rightly', 'needed', 'construct', 'ambiance', 'haunting', 'Score', 'Amar', 'Mohile', 'sound', 'design', 'Kunal', 'Mehta', 'Parikshit', 'Lalwani', 'Anup', 'Dev', 'together', 'dark', 'murky', 'background', 'overlapped', 'shinning', 'powerful', 'images', 'camerawork', 'Amit', 'Roy', 'contributes', 'Visuals', 'typical', 'Ramus', 'style', 'overuse', 'Music', 'though', 'fortunately', 'songs', 'film', 'interest', 'todays', 'intelligently', 'growing', 'audience', 'sustained', 'shoulders', 'two', 'performers', 'strong', 'Visuals', 'dont', 'think', 'Surely', 'audience', 'maangey', 'film', 'fails', 'deliver', 'adaptation', 'order', 'add', 'new', 'dimension', 'biggest', 'prerequisite', 'Screenplay', 'sluggish', 'crisp', 'places', 'therefore', 'pace', 'slackens', 'quite', 'often', 'finally', 'audience', 'subjected', 'highly', 'predictable', 'commonplace', 'drama', 'little', 'surprise', 'elements', 'Top', 'Stunt', 'director', 'Allan', 'Amin', 'Ghani', 'also', 'best', 'form', 'scenes', 'require', 'different', 'treatment', 'includes', 'Minister', 'talking', 'foul', 'Sarkar', 'son', 'overhearing', 'amateurish', 'shoot', 'jail', 'Sarkar', 'Sarkar', 'Jr', 'escapes', 'clutches', 'enemies', 'Son', 'easily', 'motivated', 'kill', 'father', 'son', 'secretly', 'entering', 'fathers', 'room', 'kill', 'police', 'commissioner', 'slapping', 'Sarkar', 'Jrall', 'requires', 'realistic', 'hardhitting', 'approach', 'backbone', 'create', 'required', 'conflict', 'dialogues', 'weak', 'eg', 'look', 'amateurish', 'line', 'CM', 'says', 'Sarkar', 'Jr', '\\x96Wo', 'jo', 'Police', 'Commissioner', 'tha', 'na', 'usay', 'maine', 'hata', 'diya', 'women', 'folk', 'take', 'Sarkars', 'working', 'completely', 'ignored', 'uninterrupted', 'negotiations', 'criminal', 'activities', 'Sarkar', 'family', 'also', 'look', 'slightly', 'place', 'fact', 'film', 'follows', 'graph', 'quite', 'similar', 'Ramus', 'productionAb', 'Tak', 'Chhappan', 'depicting', 'battle', 'good', 'evil', 'side', 'lifethe', 'law', 'police', 'administration', 'politics', 'completely', 'ignored', 'Certainly', 'expected', 'content', 'film', 'definitely', 'falls', 'short', 'could', 'rise', 'average', 'fare', 'Dear', 'Ramu', 'agreed', 'laughing', 'way', 'bank', 'definitely', 'need', 'take', 'drastic', 'overhauling', 'measures', 'film', 'production', 'factory', 'late']"
        ],
        [
         "37",
         "['saw', 'movie', 'intention', 'liking', 'sure', 'didnt', 'one', 'movies', 'seems', 'made', 'exclusively', 'Oscars', 'music', 'throughout', 'film', 'almost', 'every', 'single', 'frame', 'almost', 'profanity', 'set', 'time', 'long', 'gone', 'sepiatoned', 'imagery', 'pretentious', 'title', 'SEX', 'genius', 'explains', 'everything', 'thinks', 'concludes', 'sfxcgi', 'stupid', 'audience', 'get', 'One', 'thing', 'amused', 'though', 'fact', 'spelled', 'NOBEL', 'PRICE', 'WRONG', 'Instead', 'call', 'Nobelprice', 'named', 'actual', 'person', 'called', 'Alfred', 'Nobel', 'nobleprice', 'Jesus', 'one', 'make', 'mistake', 'big', 'production', 'supposedly', 'based', 'true', 'story', 'sham', 'others', 'thinking', 'RON']"
        ],
        [
         "38",
         "['Hoot', 'new', 'kid', 'arrives', 'Florida', 'Montana', 'first', 'faces', 'usual', 'problems', 'blending', 'dealing', 'local', 'bully', 'Soon', 'though', 'becomes', 'aware', 'bigger', 'problem', 'franchise', 'restaurant', 'chain', 'trying', 'build', 'site', 'town', 'right', 'number', 'burrowing', 'owls', 'live', 'movie', 'look', 'family', 'film', 'pretty', 'radical', 'seems', 'shows', 'sympathetically', 'Roy', 'couple', 'friends', 'shy', 'away', 'lawbreaking', 'including', 'vandalism', 'private', 'property', 'briefly', 'kidnapping', 'manager', 'chain', 'restaurants', 'name', 'environmentalism', 'save', 'owls', 'less', 'one', 'might', 'agree', 'actions', 'least', 'movie', 'courage', 'shying', 'away', 'convictions', 'good', 'solid', 'film']"
        ],
        [
         "39",
         "['Strangeland', 'seems', 'lovehate', 'relationship', 'many', 'viewers', 'personally', 'loved', 'movie', 'everything', 'itThe', 'acting', 'places', 'could', 'improved', 'upon', 'filming', 'adds', 'atmosphere', 'acting', 'cant', 'areas', 'dialogue', 'bit', 'cheesy', 'dramatic', 'really', 'expect', 'late', '90s', 'Dee', 'amazing', 'job', 'writing', 'believe', 'one', 'terrifying', 'thrillers', 'Ive', 'ever', 'seen', 'plays', 'fears', 'many', 'age', 'groupsadult', 'parents', 'children', 'Every', 'parent', 'fears', 'children', 'get', 'involved', 'chat', 'rooms', 'meet', 'strangers', 'internet', 'happen', 'real', 'world', 'every', 'child', 'adult', 'fears', 'kidnapped', 'tortured', 'happens', 'real', 'world', 'makes', 'movie', 'sensitive', 'subject', 'manyMy', 'warning', 'know', 'sensitive', 'things', 'strong', 'violence', 'visible', 'torture', 'gore', 'want', 'see', 'movie', 'unsure', 'movie', 'entertain', 'read', 'many', 'reviews', 'ask', 'people', 'know', 'seen', 'movie', 'prepared', 'turn', 'movie', 'time', 'become', 'disturbed']"
        ],
        [
         "40",
         "['Film', 'auteur', 'Stephan', 'Woloszczuk', 'explores', 'depths', 'love', 'passion', 'brotherhood', 'devastating', 'results', 'loss', 'latest', 'film', 'BLINDSPOTBLINDSPOTS', 'diegetic', 'world', 'exploding', 'suspense', 'takes', 'audience', 'twisting', 'journey', 'core', 'human', 'soul', 'director', 'manages', 'draw', 'human', 'spirit', 'performances', 'actors', 'superb', 'editing', 'especially', 'flashback', 'scenes', 'beautiful', 'cinematography', 'BLINDSPOT', 'thought', 'provoking', 'suspense', 'beginning', 'end', 'thriller', 'leaves', 'much', 'minds', 'eyeWhat', 'astounding', 'accomplishment', 'Stephan', 'Woloszczuk', 'Cheers', 'Stephan', 'Angela', 'Sander']"
        ],
        [
         "41",
         "['hard', 'assign', 'fair', 'number', 'stars', 'film', 'settled', '8', 'high', 'production', 'values', '1968', 'innovative', 'approach', 'war', 'film', 'Remember', 'havent', 'seen', 'since', '1969', 'make', 'strong', 'impressionThe', 'Long', 'Days', 'Dying', 'must', 'one', 'vivid', 'antiwar', 'films', 'ever', 'made', 'achieves', 'simply', 'portraying', 'extremely', 'realistic', 'terms', 'actions', 'handful', 'soldiers', 'Northwestern', 'Europe', '194445', 'film', 'one', 'showed', 'war', 'infantry', 'squad', 'level', 'much', 'brutal', 'detail', 'coldly', 'dispassionate', 'way', 'lets', 'actions', 'speak', 'preaching', 'sentimentality', 'comic', 'relief', 'complicated', 'scenariosUnfortunately', 'theres', 'subtlety', 'either', 'Partly', 'situation', 'trying', 'stay', 'alive', 'characters', 'come', 'across', 'flat', 'familiar', 'clichés', 'entertainment', 'film', 'doesnt', 'make', 'though', 'clearly', 'intended', 'entertain', 'intended', 'slug', 'head', 'misery', 'horror', 'World', 'War', 'II', 'modern', 'war', 'general', 'twenty', 'years', 'Platoon', 'thirty', 'Saving', 'Private', 'Ryan', 'far', 'watchable', 'films', 'flat', 'generally', 'disagreeable', 'characters', 'lack', 'actual', 'plot', 'realistically', 'unpleasant', 'images', 'including', 'may', 'first', 'onscreen', 'vomit', 'theatrical', 'history', 'make', 'film', 'hard', 'sit', 'though', '95', 'minutesSo', '10', 'stars', 'production', 'realism', '4', 'stars', 'feeling', 'youll', 'bonus', 'star', 'heart', 'right', 'place', 'Average', '8Like', 'Carl', 'Foremans', 'underrated', 'Victors', 'equally', 'downbeat', 'interesting', 'thoughtprovoking', 'film', 'Long', 'Days', 'Dying', 'seems', 'DVD', 'films', 'cable', 'number', 'times']"
        ],
        [
         "42",
         "['movie', 'disappeared', 'obscurity', 'absolute', 'crime', 'Conan', 'perhaps', 'Sword', 'Sorcery', 'movie', 'better', 'brutal', 'violence', 'cool', 'character', 'designs', 'good', 'pacing', 'make', 'one', 'best', 'fantasies', 'around', 'certainly', 'greatest', 'animated', 'movie', 'aimed', 'adult', 'audience', 'ever', 'seen', 'similar', 'Bakshis', 'usual', 'frenetic', 'style', 'quite', 'departure', 'Bakshi', 'opinion', 'best', 'work', 'hope', 'film', 'gets', 'recognition', 'deserves']"
        ],
        [
         "43",
         "['surprised', 'bad', 'movie', 'Nice', 'cinematography', 'beautiful', 'landscapes', 'take', 'movie', 'far', 'hoping', 'rerun', 'Hero', 'much', 'much', 'worseThis', 'movie', 'kung', 'fu', 'movies', 'got', 'bad', 'reputation', 'first', 'place', 'believable', 'characters', 'even', 'within', 'cartoonish', 'world', 'kung', 'fu', 'movies', 'characters', 'ridiculous', 'virtually', 'plot', 'ridiculous', 'story', 'twistsThis', 'movie', 'boring', 'frustrating', 'reminds', 'trying', 'play', 'make', 'believe', 'game', 'child', 'Every', 'time', 'think', 'silly', 'battle', 'makes', 'sense', 'invent', 'another', 'ridiculous', 'twist', 'makes', 'sense', 'Ah', 'ha', 'think', 'youve', 'got', 'super', 'powers', '10000', 'ray', 'guns', 'ate', 'vitamins', 'laced', 'plutonium', 'teflon', 'ray', 'guns', 'dont', 'work', 'Im', 'invulnerable', 'super', 'powerstap', 'tap', 'trade', 'backs', 'infinity', 'PLUS', 'one', 'Children', 'continue', 'lunacy', 'dont', 'really', 'care', 'whether', 'anyone', 'listening', 'fun', 'time', 'However', 'VIEWER', 'especially', 'adult', 'viewer', 'long', 'movie', 'worse', 'bout', 'bad', 'gasSPOILERS', 'AHEAD', 'Note', 'kung', 'fu', 'movie', 'makers', 'knife', 'back', 'hurts', 'unless', 'PCP', 'case', 'kung', 'fu', 'strong', 'b', 'repeatedly', 'fall', 'back', 'knife', 'hurt', 'damage', 'unless', 'fake', 'prop', 'c', 'get', 'stabbed', 'heart', 'knife', 'die', 'especially', 'ancient', 'china', 'isnt', 'Kaiser', 'Permanente', 'around', 'corner', 'kung', 'fu', 'fights', 'dont', 'last', 'hours', '3', 'feet', 'snow', 'falls', 'e', 'sometimes', 'worth', 'explaining', 'characters', 'motivationsIn', 'event', 'go', 'watch', 'Hero', 'least', 'within', 'little', 'world', 'comprehensible']"
        ],
        [
         "44",
         "['one', 'best', 'Charlie', 'Chaplins', 'lengthier', 'short', 'films', 'places', 'Little', 'Fellow', 'trenches', 'WWI', 'brings', 'intolerable', 'politeness', 'endless', 'patience', 'drudgery', 'trench', 'life', 'troops', 'lived', 'months', 'time', 'finally', 'going', 'top', 'overtake', 'enemy', 'usually', 'deaths', 'takes', 'someone', 'Chaplins', 'skill', 'comedian', 'make', 'something', 'dreary', 'trench', 'warfare', 'brilliant', 'comedy', 'irony', 'uses', 'film', 'makes', 'even', 'uncomfortable', 'conditions', 'highly', 'amusingLike', 'best', 'Chaplins', 'films', 'short', 'films', 'otherwise', 'one', 'packed', 'brilliant', 'memorable', 'scenes', 'scene', 'marks', 'kills', 'piece', 'chalk', 'board', 'trench', 'erasing', 'one', 'gets', 'helmet', 'shot', 'scene', 'fellow', 'soldiers', 'sleeping', 'underwater', 'opening', 'beer', 'bottle', 'lighting', 'cigarette', 'course', 'overtaking', 'enemy', 'scenes', 'showstoppers', 'reminiscent', 'wonderful', 'Chaplin', 'scenes', 'one', 'missed']"
        ],
        [
         "45",
         "['wonderful', 'movie', 'lot', 'ways', 'Everyone', 'family', 'enjoyed', 'animation', 'excellent', 'easily', 'demonstrates', 'plenty', 'producers', 'create', 'films', 'visually', 'brilliant', 'anything', 'comes', 'Disney', 'StudioOne', 'difference', 'normal', 'Disney', 'fare', 'Dreamworks', 'movie', 'feature', 'wisecracking', 'side', 'kick', 'comedy', 'relief', 'sudden', 'moments', 'characters', 'break', 'song', 'sure', 'scene', 'beginning', 'film', 'would', 'appear', 'Disney', 'picture', 'birth', 'Spirit', 'done', 'tastefully', 'offensive', 'Spirit', 'great', 'breath', 'fresh', 'air', 'Dont', 'get', 'wrong', 'loved', 'Disney', 'years', 'continue', 'Spirit', 'another', 'example', 'great', 'animated', 'fare', 'soon', 'kids', 'wanted', 'watch', 'feeling', 'thoroughly', 'recommend']"
        ],
        [
         "46",
         "['obviously', 'didnt', 'see', 'looking', 'cast', 'seeing', 'Doug', 'Masters', 'back', 'dead', 'know', 'avoid', 'like', 'plague', 'hate', 'Hollywood', 'producers', 'writers', 'directors', 'think', 'audiences', 'stupid', 'theyre', 'going', 'catch', 'continuity', 'errors', 'supposedly', 'dead', 'Doug', 'Masters', 'returning', 'big', 'giant', 'one', 'wont', 'sayAnd', 'cant', 'believe', 'someone', 'like', 'Louis', 'Gossett', 'Jr', 'would', 'return', 'something', 'like', 'thatDid', 'Jason', 'Gedrick', 'really', 'decline', 'Well', 'hate', 'say', 'even', 'took', 'role', 'would', 'still', 'continuity', 'error', 'bet', 'really', 'turned', 'must', 'incredulous', 'seeing', 'character', 'died', 'second', 'filmIll', 'probably', 'catch', 'accident', 'late', 'night', 'air', 'channel', 'way', 'going', 'rent', 'buy', 'DVD']"
        ],
        [
         "47",
         "['Expecting', 'see', 'another', 'Nunsploitation', 'movie', 'mean', 'Mother', 'Superior', 'abusing', 'torturing', 'charges', 'Flavia', 'turned', 'MUCH', 'anticipatedIt', 'actually', 'feminist', 'storyline', 'though', 'dont', 'think', 'term', 'existed', 'era', 'movie', 'set', 'certainly', 'wasnt', 'practiced', 'Women', 'Jews', 'poor', 'downtrodden', 'locked', 'menial', 'spots', 'society', 'Throughout', 'story', 'Sister', 'Flavia', 'Florinda', 'Bolkan', 'witnesses', 'tyranny', 'time', 'cant', 'sit', 'longer', 'actually', 'something', 'albeit', 'disastrous', 'resultsThe', 'precredit', 'sequence', 'Flavia', 'young', 'adolescent', 'near', 'battlefield', 'sees', 'injured', 'evil', 'Muslim', 'soldier', 'one', 'still', 'alive', 'tries', 'assist', 'hatefilled', 'father', 'beheads', 'soldier', 'waves', 'head', 'face', 'great', 'family', 'dynamics', 'huh', 'father', 'forces', 'join', 'convent', 'witnesses', 'even', 'injustice', 'Though', 'scenes', 'involve', 'violence', 'rape', 'nuns', 'would', 'consider', 'historical', 'drama', 'Nunsploitation', 'Indeed', 'many', 'ingredients', 'trashy', 'exploitation', 'piece', 'acting', 'camerawork', 'storyline', 'music', 'good', 'keep', 'level', 'nun', 'films', 'Ive', 'seen', 'usually', 'basic', 'premise', 'good', 'girl', 'somehow', 'winds', 'convent', 'Mother', 'Superior', 'supreme', 'bitch', 'likes', 'whip', 'people', 'andor', 'make', 'lives', 'living', 'hellFlavia', 'spends', 'much', 'first', 'part', 'movie', 'passively', 'questioning', 'atrocities', 'happening', 'around', 'Much', 'passivity', 'forgotten', 'becomes', 'acquainted', 'strongspirited', 'slightly', 'loony', 'likes', 'pee', 'outside', 'like', 'lot', 'easier', 'guys', 'Sister', 'Agatha', 'group', 'Muslims', 'attack', 'abbey', 'Flavia', 'Agatha', 'cower', 'fear', 'like', 'nuns', 'attackers', 'actually', 'function', 'liberators', 'cruelty', 'nearslavery', 'abbey', 'fact', 'Christian', 'Muslim', 'invader', 'impales', 'dear', 'Sister', 'Agatha', 'Agathas', 'death', 'sends', 'Flavia', 'violent', 'crusade', 'oppressed', 'father', 'treats', 'like', 'dirt', 'Muslim', 'lover', 'deserts', 'inopportune', 'time', 'dont', 'want', 'give', 'much', 'rest', 'story', 'prepared', 'shocked', 'devastated', 'saddened', 'conclusion', 'great', 'film', 'dont', 'put', 'undeserved', 'reputation', 'trash', 'epic', 'Plus', 'Earth', 'could', 'movie', 'featuring', 'Florinda', 'Bolkan', 'Claudio', 'Cassinelli', 'go', 'wrong', 'familiar', 'María', 'Casares', 'works', 'Sister', 'Agatha', 'hell', 'characterI', 'read', 'many', 'great', 'reviews', 'Synapse', 'US', 'release', 'love', 'German', 'XRated', 'Kult', 'DVD', 'copy', 'isnt', 'anamorphic169', 'actually', 'little', 'picture', 'information', 'edges', 'Synapses', 'releaseAnd', 'also', 'many', 'great', 'wise', 'funny', 'lines', 'dialogue', 'many', 'Sister', 'AgathaWhy', 'God', 'male', 'Father', 'Son', 'Holy', 'Spirit', 'Theyre', 'male', 'FlaviaThese', 'men', 'afraid', 'look', 'Sister', 'Afraid', 'power', 'taken', 'away', 'Sr', 'Agatha', 'regarding', 'Christians', 'fleeing', 'Muslims', 'arriveWoman', 'going', 'Moslems', 'nothing', 'Christians', 'havent', 'done', 'Ha', 'Ha', 'Ha', 'Sr', 'Agatha', 'group', 'fleeing', 'Christian', 'womenLord', 'bless', 'Moslems', 'putting', 'fear', 'pompous', 'Christians', 'FlaviaDoes', 'take', 'mere', 'sight', 'Moslem', 'make', 'ht', 'underclothing', 'Sr', 'AgathaClosing', 'message', 'Flavia', 'Gaetani', 'yet', 'Muslim', 'longer', 'Christian', 'punished', 'runaway', 'nun', 'idea', 'film', 'came', 'events', 'occurred', 'Musalman', 'invasions', 'Italy', 'culminating', 'even', 'today', 'remembered', 'MARTYRDOM', '800', 'OTRANTO']"
        ],
        [
         "48",
         "['Evil', 'big', 'house', 'bad', 'spirit', 'foolishly', 'unleashed', 'torture', 'inside', 'washout', 'movie', 'Theres', 'single', 'scary', 'scene', 'one', 'Richard', 'Crenna', 'overplays', 'nothing', 'role', 'Theres', 'animated', 'ghosts', 'disfigurement', 'power', 'saw', 'ghostrape', 'nothing', 'special', 'happens', 'almost', 'whole', 'movie', 'Evil', 'gets', 'personified', 'intoVictor', 'Buono', 'Great', 'filmmakers', 'get', 'idea', 'Buono', 'scary', 'looks', 'like', 'bum', 'guest', 'starring', 'paycheck', 'pay', 'liquor', 'bill', 'late', 'turn', 'damn', 'thing', 'felt', 'like', 'throwing', 'videocassette', 'window', 'Please', 'avoid', 'junk', 'Hopefully', 'never', 'see', 'light', 'DVD', 'fade', 'obscurity']"
        ],
        [
         "49",
         "['Lisa', 'Baumer', 'Ida', 'Galli', 'adulteress', 'wife', 'big', 'businessman', 'inherits', '1million', 'life', 'insurance', 'husband', 'killed', 'plane', 'crash', 'business', 'trip', 'initially', 'suspected', 'responsible', 'husbands', 'recently', 'changed', 'insurance', 'investigator', 'Peter', 'Lynch', 'George', 'Hiltonand', 'Interpol', 'agent', 'tail', 'sure', 'Baumer', 'travels', 'Athens', 'Greece', 'cash', 'inheritance', 'insists', 'casha', 'dangerous', 'turn', 'events', 'Lynch', 'whos', 'identity', 'known', 'Baumer', 'tries', 'protect', 'lover', 'husband', 'Lara', 'Florakis', 'nevertheless', 'along', 'henchman', 'Sharif', 'tries', 'kill', 'share', 'money', 'deems', 'entitled', 'Masked', 'killer', 'starts', 'hisher', 'brutal', 'killings', 'Lynch', 'customary', 'hero', 'first', 'suspected', 'Greek', 'Police', 'warned', 'leave', 'Athens', 'Police', 'Inspector', 'StavrosLuigi', 'Pistilli', 'familiar', 'face', 'Giallo', 'Spaghettis', 'Lynch', 'aided', 'gorgeous', 'Cléo', 'Dupont', 'Anita', 'Strindberg', 'local', 'journalist', 'helps', 'investigate', 'killingsTo', 'say', 'could', 'ruin', 'film', 'anyone', 'seen', 'suffice', 'say', 'enough', 'red', 'herrings', 'plausible', 'keep', 'MysteryThriller', 'fans', 'happy', 'story', 'driven', 'GialloThe', 'Shame', 'DVD', 'superb', 'transfer', 'English', 'Italian', 'soundtrack', 'also', 'catchy', 'score', 'good', 'measure', 'Bruno', 'Nicolai', 'stay', 'head', 'whileall', 'first', 'rate', 'Giallo']"
        ]
       ],
       "shape": {
        "columns": 1,
        "rows": 100
       }
      },
      "text/plain": [
       "0     [viewed, first, two, nights, coming, IMDb, loo...\n",
       "1     [said, several, times, least, watching, Eric, ...\n",
       "2     [Without, doubt, WORSE, comicbook, movie, ever...\n",
       "3     [Firstly, would, like, point, people, criticis...\n",
       "4     [compact, crime, drama, good, amount, action, ...\n",
       "                            ...                        \n",
       "95    [wasnt, saw, Sidney, Pollack, picture, ever, c...\n",
       "96    [Daniel, Auteuil, Queen, Margot, much, better,...\n",
       "97    [got, movie, eBay, mainly, Im, gay, love, Til,...\n",
       "98    [Preposterous, sequel, stretches, credibility,...\n",
       "99    [Bugs, Bunny, accidentally, ends, South, Pole,...\n",
       "Name: review, Length: 100, dtype: object"
      ]
     },
     "execution_count": 54,
     "metadata": {},
     "output_type": "execute_result"
    }
   ],
   "source": [
    "\n",
    "\n",
    "dataset.iloc[:,0].apply(remove_stopwords)\n"
   ]
  },
  {
   "cell_type": "code",
   "execution_count": 107,
   "id": "3770f4ac",
   "metadata": {},
   "outputs": [],
   "source": [
    "from sklearn.feature_extraction.text import CountVectorizer\n",
    "\n",
    "transformer=CountVectorizer(analyzer=remove_stopwords, max_features=500).fit(dataset['review'])\n",
    "\n",
    "vectorised=transformer.transform(dataset['review'])"
   ]
  },
  {
   "cell_type": "code",
   "execution_count": 108,
   "id": "618f9ca0",
   "metadata": {},
   "outputs": [
    {
     "name": "stdout",
     "output_type": "stream",
     "text": [
      "(100, 500)\n"
     ]
    }
   ],
   "source": [
    "X=vectorised\n",
    "dataset['label'] = dataset['sentiment'].map({'positive': 1, 'negative': 0})\n",
    "y=dataset['label']\n",
    "print(X.shape)\n"
   ]
  },
  {
   "cell_type": "code",
   "execution_count": 109,
   "id": "fcbbfda8",
   "metadata": {},
   "outputs": [],
   "source": [
    "from sklearn.model_selection import train_test_split\n",
    "\n",
    "X_train, X_test, y_train, y_test = train_test_split(X, y, test_size=0.2, random_state=42)"
   ]
  },
  {
   "cell_type": "code",
   "execution_count": 110,
   "id": "56a5586f",
   "metadata": {},
   "outputs": [
    {
     "name": "stdout",
     "output_type": "stream",
     "text": [
      "Test Accuracy: 0.5000\n"
     ]
    }
   ],
   "source": [
    "from sklearn.naive_bayes import MultinomialNB\n",
    "from sklearn.metrics import accuracy_score\n",
    "\n",
    "model = MultinomialNB()\n",
    "model.fit(X_train, y_train)\n",
    "\n",
    "# Predict on test set\n",
    "y_pred = model.predict(X_test)\n",
    "\n",
    "# Accuracy\n",
    "accuracy = accuracy_score(y_test, y_pred)\n",
    "print(f\"Test Accuracy: {accuracy:.4f}\")"
   ]
  },
  {
   "cell_type": "code",
   "execution_count": 111,
   "id": "fe3c2632",
   "metadata": {},
   "outputs": [],
   "source": [
    "def predict_review_sentiment(model, vectorizer, review):\n",
    "    review_vector = vectorizer.transform([review])\n",
    "    prediction = model.predict(review_vector)[0]\n",
    "    return prediction"
   ]
  },
  {
   "cell_type": "code",
   "execution_count": 119,
   "id": "b000e745",
   "metadata": {},
   "outputs": [
    {
     "name": "stdout",
     "output_type": "stream",
     "text": [
      "An absolutely stunning movie with a powerful message!\n",
      "Predicted Sentiment: positive\n",
      "Absolutely amazing work, good movie.\n",
      "Predicted Sentiment: positive\n",
      "Worst movie ever, not recommended\n",
      "Predicted Sentiment: negative\n",
      "good movie , thriller and intersting to watch with friends.\n",
      "Predicted Sentiment: positive\n"
     ]
    }
   ],
   "source": [
    "review_texts = [\"An absolutely stunning movie with a powerful message!\",\"Absolutely amazing work, good movie.\", \"Worst movie ever, not recommended\", \"good movie , thriller and intersting to watch with friends.\" ]\n",
    "\n",
    "for review in review_texts:\n",
    "    predicted=predict_review_sentiment(model, transformer, review)\n",
    "    print(review)\n",
    "\n",
    "    if predicted==1:\n",
    "        print(\"Predicted Sentiment: positive\")\n",
    "\n",
    "    else:\n",
    "        print(\"Predicted Sentiment: negative\")\n",
    "\n",
    "       \n",
    "\n",
    "\n",
    "\n"
   ]
  }
 ],
 "metadata": {
  "kernelspec": {
   "display_name": "Python 3 (ipykernel)",
   "language": "python",
   "name": "python3"
  },
  "language_info": {
   "codemirror_mode": {
    "name": "ipython",
    "version": 3
   },
   "file_extension": ".py",
   "mimetype": "text/x-python",
   "name": "python",
   "nbconvert_exporter": "python",
   "pygments_lexer": "ipython3",
   "version": "3.10.12"
  }
 },
 "nbformat": 4,
 "nbformat_minor": 5
}
