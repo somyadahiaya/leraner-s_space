{
 "cells": [
  {
   "cell_type": "code",
   "execution_count": 74,
   "id": "49dab649",
   "metadata": {},
   "outputs": [],
   "source": [
    "import numpy as np\n",
    "import pandas as pd"
   ]
  },
  {
   "cell_type": "markdown",
   "id": "d3bf088a",
   "metadata": {},
   "source": [
    "Problem 1"
   ]
  },
  {
   "cell_type": "code",
   "execution_count": 3,
   "id": "091e8fef",
   "metadata": {},
   "outputs": [
    {
     "name": "stdout",
     "output_type": "stream",
     "text": [
      "[[48 16 20 29]\n",
      " [37 36 31 38]\n",
      " [12 36 26 21]\n",
      " [13 31 25  3]\n",
      " [30  4 12  4]]\n"
     ]
    }
   ],
   "source": [
    "a=np.random.randint(1,51,(5,4))\n",
    "print(a)"
   ]
  },
  {
   "cell_type": "code",
   "execution_count": 4,
   "id": "c560e031",
   "metadata": {},
   "outputs": [
    {
     "name": "stdout",
     "output_type": "stream",
     "text": [
      "[29, 31, 36, 13]\n"
     ]
    }
   ],
   "source": [
    "anti_diagonal=[a[i][3-i] for i in range(0,4)]\n",
    "\n",
    "print(anti_diagonal)"
   ]
  },
  {
   "cell_type": "code",
   "execution_count": 6,
   "id": "9466c8d5",
   "metadata": {},
   "outputs": [
    {
     "data": {
      "text/plain": [
       "23.6"
      ]
     },
     "execution_count": 6,
     "metadata": {},
     "output_type": "execute_result"
    }
   ],
   "source": [
    "np.mean(a)"
   ]
  },
  {
   "cell_type": "code",
   "execution_count": 9,
   "id": "ae8c6123",
   "metadata": {},
   "outputs": [
    {
     "name": "stdout",
     "output_type": "stream",
     "text": [
      "[48 29 37 36 31 38 36 26 31 25 30]\n"
     ]
    }
   ],
   "source": [
    "new_arr=a[np.where(a>np.mean(a))]\n",
    "\n",
    "print(new_arr)"
   ]
  },
  {
   "cell_type": "code",
   "execution_count": 51,
   "id": "4d3f36ac",
   "metadata": {},
   "outputs": [
    {
     "name": "stdout",
     "output_type": "stream",
     "text": [
      "[[48 16 20 29]\n",
      " [37 36 31 38]\n",
      " [12 36 26 21]\n",
      " [13 31 25  3]\n",
      " [30  4 12  4]]\n",
      "[48, 16, 20, 29, 38, 21, 3, 4, 12, 4, 30, 13, 12, 37]\n"
     ]
    }
   ],
   "source": [
    "def numpy_boundary_traversal(f ):\n",
    "    l=[]\n",
    "    l.append(f[0])\n",
    "    l.append(f[1:-1,-1])\n",
    "    l.append(f[-1,-1::-1])\n",
    "    l.append(f[-2:0:-1,0])\n",
    "    ans=[]\n",
    "    for i in l:\n",
    "        ans.extend(i)\n",
    "    \n",
    "    return ans\n",
    "\n",
    "print(a)\n",
    "print(numpy_boundary_traversal(a))\n",
    "\n",
    "    "
   ]
  },
  {
   "cell_type": "markdown",
   "id": "f5dc4aa1",
   "metadata": {},
   "source": [
    "Problem 2"
   ]
  },
  {
   "cell_type": "code",
   "execution_count": 69,
   "id": "5f6abf67",
   "metadata": {},
   "outputs": [
    {
     "name": "stdout",
     "output_type": "stream",
     "text": [
      "[ 7.93246006  5.68489721  0.61966869  8.97302082  4.87833858  8.48242026\n",
      "  0.86834192  0.68831813  2.05266085  0.39727029  0.15666272  4.08889679\n",
      "  1.60744175 10.19936165 10.64245049  4.97764985  6.36861033  8.93290371\n",
      "  4.07120168  5.9133227 ]\n",
      "[ 7.93  5.68  0.62  8.97  4.88  8.48  0.87  0.69  2.05  0.4   0.16  4.09\n",
      "  1.61 10.2  10.64  4.98  6.37  8.93  4.07  5.91]\n"
     ]
    }
   ],
   "source": [
    "b=np.random.uniform(0,11,20)\n",
    "print(b)\n",
    "\n",
    "b=b.round(2)\n",
    "\n",
    "print(b)"
   ]
  },
  {
   "cell_type": "code",
   "execution_count": 70,
   "id": "de514bc4",
   "metadata": {},
   "outputs": [
    {
     "name": "stdout",
     "output_type": "stream",
     "text": [
      "min= 0.16  ,max= 10.64  ,median= 4.93\n"
     ]
    }
   ],
   "source": [
    "median=np.median(b)\n",
    "min=np.min(b)\n",
    "max=np.max(b)\n",
    "\n",
    "\n",
    "print('min=',min,\" ,max=\", max, \" ,median=\", median)"
   ]
  },
  {
   "cell_type": "code",
   "execution_count": 71,
   "id": "a5f17919",
   "metadata": {},
   "outputs": [
    {
     "name": "stdout",
     "output_type": "stream",
     "text": [
      "[ 7.93    5.68    0.3844  8.97   23.8144  8.48    0.7569  0.4761  4.2025\n",
      "  0.16    0.0256 16.7281  2.5921 10.2    10.64   24.8004  6.37    8.93\n",
      " 16.5649  5.91  ]\n"
     ]
    }
   ],
   "source": [
    "c=np.where(b<5,b**2,b)\n",
    "\n",
    "print(c)"
   ]
  },
  {
   "cell_type": "code",
   "execution_count": 72,
   "id": "4b7199ec",
   "metadata": {},
   "outputs": [
    {
     "name": "stdout",
     "output_type": "stream",
     "text": [
      "[ 7.93  5.68  0.62  8.97  4.88  8.48  0.87  0.69  2.05  0.4   0.16  4.09\n",
      "  1.61 10.2  10.64  4.98  6.37  8.93  4.07  5.91]\n",
      "[ 0.16 10.64  0.4  10.2   0.62  8.97  0.69  8.93  0.87  8.48  1.61  7.93\n",
      "  2.05  6.37  4.07  5.91  4.09  5.68  4.88  4.98]\n"
     ]
    }
   ],
   "source": [
    "def numpy_alternate_array(array):\n",
    "\n",
    "    sorted=np.sort(array)\n",
    "    result=[]\n",
    "    i, j = 0, len(sorted) - 1\n",
    "    while i <= j:\n",
    "        result.append(sorted[i])\n",
    "        i += 1\n",
    "        if i <= j:\n",
    "            result.append(sorted[j])\n",
    "            j -= 1\n",
    "\n",
    "    return np.array(result)\n",
    "\n",
    "\n",
    "print(b)\n",
    "print(numpy_alternate_array(b))"
   ]
  },
  {
   "cell_type": "markdown",
   "id": "6498571c",
   "metadata": {},
   "source": [
    "Problem 3"
   ]
  },
  {
   "cell_type": "code",
   "execution_count": 78,
   "id": "81eb8224",
   "metadata": {},
   "outputs": [],
   "source": [
    "names = ['Alice', 'Bob', 'Charlie', 'David', 'Eva']\n",
    "subjects = ['Math', 'Science', 'English', 'History', 'Geography']\n",
    "\n",
    "num_records = 10\n",
    "np.random.seed(0)  \n",
    "\n",
    "data = {\n",
    "    'Name': np.random.choice(names, size=num_records),\n",
    "    'Subject': np.random.choice(subjects, size=num_records),\n",
    "    'Score': np.random.randint(50, 101, size=num_records)  \n",
    "}"
   ]
  },
  {
   "cell_type": "code",
   "execution_count": 83,
   "id": "a40bab24",
   "metadata": {},
   "outputs": [
    {
     "name": "stdout",
     "output_type": "stream",
     "text": [
      "      Name    Subject  Score Grade\n",
      "0      Eva       Math     66     D\n",
      "1    Alice  Geography     55     F\n",
      "2    David    English     65     D\n",
      "3    David    Science     97     A\n",
      "4    David       Math     50     F\n",
      "5      Bob    Science     68     D\n",
      "6    David    Science     85     B\n",
      "7  Charlie       Math     74     C\n",
      "8      Eva    Science     99     A\n",
      "9    Alice  Geography     79     C\n"
     ]
    }
   ],
   "source": [
    "df=pd.DataFrame(data)\n",
    "\n",
    "\n",
    "# A (90–100), B (80–89), C (70–79), D (60–69), F(below 60).\n",
    "def assign(score):\n",
    "    if score>=90:\n",
    "        return 'A'\n",
    "    elif score>=80:\n",
    "        return 'B'\n",
    "    elif score>=70:\n",
    "        return 'C'\n",
    "    elif score>=60:\n",
    "        return 'D'\n",
    "    else:\n",
    "        return 'F'\n",
    "\n",
    "\n",
    "df[\"Grade\"]=[assign(i) for i in df[\"Score\"]]\n",
    "\n",
    "\n",
    "print(df)\n"
   ]
  },
  {
   "cell_type": "code",
   "execution_count": 87,
   "id": "07ce7f19",
   "metadata": {},
   "outputs": [
    {
     "name": "stdout",
     "output_type": "stream",
     "text": [
      "      Name    Subject  Score Grade\n",
      "8      Eva    Science     99     A\n",
      "3    David    Science     97     A\n",
      "6    David    Science     85     B\n",
      "9    Alice  Geography     79     C\n",
      "7  Charlie       Math     74     C\n",
      "5      Bob    Science     68     D\n",
      "0      Eva       Math     66     D\n",
      "2    David    English     65     D\n",
      "1    Alice  Geography     55     F\n",
      "4    David       Math     50     F\n"
     ]
    }
   ],
   "source": [
    "print(df.sort_values(\"Score\",ascending=False))"
   ]
  },
  {
   "cell_type": "code",
   "execution_count": 86,
   "id": "47f2f7f5",
   "metadata": {},
   "outputs": [
    {
     "name": "stdout",
     "output_type": "stream",
     "text": [
      "Subject\n",
      "English      65.000000\n",
      "Geography    67.000000\n",
      "Math         63.333333\n",
      "Science      87.250000\n",
      "Name: Score, dtype: float64\n"
     ]
    }
   ],
   "source": [
    "avg_scores = df.groupby('Subject')['Score'].mean()\n",
    "\n",
    "print( avg_scores)"
   ]
  },
  {
   "cell_type": "code",
   "execution_count": 88,
   "id": "a0a0a5d1",
   "metadata": {},
   "outputs": [],
   "source": [
    "def pandas_filter_pass(dataframe):\n",
    "    return dataframe[dataframe['Grade'].isin(['A', 'B'])]\n"
   ]
  },
  {
   "cell_type": "code",
   "execution_count": 89,
   "id": "d4d33e24",
   "metadata": {},
   "outputs": [
    {
     "name": "stdout",
     "output_type": "stream",
     "text": [
      "    Name  Subject  Score Grade\n",
      "3  David  Science     97     A\n",
      "6  David  Science     85     B\n",
      "8    Eva  Science     99     A\n"
     ]
    }
   ],
   "source": [
    "passed_df = pandas_filter_pass(df)\n",
    "print(passed_df)"
   ]
  }
 ],
 "metadata": {
  "kernelspec": {
   "display_name": "Python 3 (ipykernel)",
   "language": "python",
   "name": "python3"
  },
  "language_info": {
   "codemirror_mode": {
    "name": "ipython",
    "version": 3
   },
   "file_extension": ".py",
   "mimetype": "text/x-python",
   "name": "python",
   "nbconvert_exporter": "python",
   "pygments_lexer": "ipython3",
   "version": "3.10.12"
  }
 },
 "nbformat": 4,
 "nbformat_minor": 5
}
